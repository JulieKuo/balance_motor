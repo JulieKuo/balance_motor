{
 "cells": [
  {
   "attachments": {},
   "cell_type": "markdown",
   "metadata": {},
   "source": [
    "### train"
   ]
  },
  {
   "cell_type": "code",
   "execution_count": 1,
   "metadata": {},
   "outputs": [
    {
     "name": "stdout",
     "output_type": "stream",
     "text": [
      "ewogICAgIm1vZGVsX2lkIjogIjIwMjMwODA3MTIwMDAwMDAwIgp9\n"
     ]
    }
   ],
   "source": [
    "import json, base64\n",
    "s = {\n",
    "    \"model_id\": \"20230807120000000\",\n",
    "}\n",
    "s = json.dumps(s, indent = 4)\n",
    "\n",
    "b = s.encode(\"UTF-8\")\n",
    "e = base64.b64encode(b)\n",
    "argv = e.decode(\"UTF-8\")\n",
    "print(argv)"
   ]
  },
  {
   "cell_type": "code",
   "execution_count": 2,
   "metadata": {},
   "outputs": [
    {
     "name": "stdout",
     "output_type": "stream",
     "text": [
      "python train.py \"ewogICAgIm1vZGVsX2lkIjogIjIwMjMwODA3MTIwMDAwMDAwIgp9\"\n"
     ]
    }
   ],
   "source": [
    "print(f'python train.py \"{argv}\"')"
   ]
  },
  {
   "cell_type": "markdown",
   "metadata": {},
   "source": [
    "### predict"
   ]
  },
  {
   "cell_type": "code",
   "execution_count": 3,
   "metadata": {},
   "outputs": [
    {
     "name": "stdout",
     "output_type": "stream",
     "text": [
      "ewogICAgIndvcmtfaWQiOiAiRkMyMzY2MDZUMS0yIiwKICAgICJvcCI6IDEsCiAgICAibW9kZWxfaWQiOiAiMjAyMzA4MDcxMjAwMDAwMDAiLAogICAgInNwZWVkIjogIjEwMDAiLAogICAgImxfYW5nbGVfb3JpIjogIjMzNCIsCiAgICAibF93ZWlnaHRfb3JpIjogIjE2NyIsCiAgICAiZl9hbmdsZV9vcmkiOiAiMTk3IiwKICAgICJmX3dlaWdodF9vcmkiOiAiODEuMyIKfQ==\n"
     ]
    }
   ],
   "source": [
    "import json, base64\n",
    "s = {\n",
    "    \"work_id\": \"FC236606T1-2\",\n",
    "    \"op\": 1,\n",
    "    \"model_id\": \"20230807120000000\",\n",
    "    \"speed\": \"1000\",\n",
    "    \"l_angle_ori\": \"334\",\n",
    "    \"l_weight_ori\": \"167\",\n",
    "    \"f_angle_ori\": \"197\",\n",
    "    \"f_weight_ori\": \"81.3\"\n",
    "}\n",
    "s = json.dumps(s, indent = 4)\n",
    "\n",
    "b = s.encode(\"UTF-8\")\n",
    "e = base64.b64encode(b)\n",
    "argv = e.decode(\"UTF-8\")\n",
    "print(argv)"
   ]
  },
  {
   "cell_type": "code",
   "execution_count": 4,
   "metadata": {},
   "outputs": [
    {
     "name": "stdout",
     "output_type": "stream",
     "text": [
      "python predict.py \"ewogICAgIndvcmtfaWQiOiAiRkMyMzY2MDZUMS0yIiwKICAgICJvcCI6IDEsCiAgICAibW9kZWxfaWQiOiAiMjAyMzA4MDcxMjAwMDAwMDAiLAogICAgInNwZWVkIjogIjEwMDAiLAogICAgImxfYW5nbGVfb3JpIjogIjMzNCIsCiAgICAibF93ZWlnaHRfb3JpIjogIjE2NyIsCiAgICAiZl9hbmdsZV9vcmkiOiAiMTk3IiwKICAgICJmX3dlaWdodF9vcmkiOiAiODEuMyIKfQ==\"\n"
     ]
    }
   ],
   "source": [
    "print(f'python predict.py \"{argv}\"')"
   ]
  }
 ],
 "metadata": {
  "kernelspec": {
   "display_name": ".venv",
   "language": "python",
   "name": "python3"
  },
  "language_info": {
   "codemirror_mode": {
    "name": "ipython",
    "version": 3
   },
   "file_extension": ".py",
   "mimetype": "text/x-python",
   "name": "python",
   "nbconvert_exporter": "python",
   "pygments_lexer": "ipython3",
   "version": "3.8.10"
  },
  "orig_nbformat": 4
 },
 "nbformat": 4,
 "nbformat_minor": 2
}
