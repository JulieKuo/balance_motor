{
 "cells": [
  {
   "attachments": {},
   "cell_type": "markdown",
   "metadata": {},
   "source": [
    "### train"
   ]
  },
  {
   "cell_type": "code",
   "execution_count": 1,
   "metadata": {},
   "outputs": [
    {
     "name": "stdout",
     "output_type": "stream",
     "text": [
      "python train.py \"ewogICAgIm1vZGVsX2lkIjogIjIwMjMxMTI4MTIwMDAwMDAwIgp9\"\n"
     ]
    }
   ],
   "source": [
    "import json, base64\n",
    "s = {\n",
    "    \"model_id\": \"20231128120000000\",\n",
    "}\n",
    "s = json.dumps(s, indent = 4)\n",
    "\n",
    "b = s.encode(\"UTF-8\")\n",
    "e = base64.b64encode(b)\n",
    "argv = e.decode(\"UTF-8\")\n",
    "print(f'python train.py \"{argv}\"')"
   ]
  },
  {
   "cell_type": "markdown",
   "metadata": {},
   "source": [
    "### predict"
   ]
  },
  {
   "cell_type": "code",
   "execution_count": 2,
   "metadata": {},
   "outputs": [
    {
     "name": "stdout",
     "output_type": "stream",
     "text": [
      "python predict.py \"ewogICAgIndvcmtfaWQiOiAianVsaWV0ZXN0IiwKICAgICJvcCI6IDEsCiAgICAibW9kZWxfaWQiOiAiMjAyMzA4MDcxMjAwMDAwMDAiLAogICAgInNwZWVkIjogIjU5MCIsCiAgICAibF9hbmdsZV9vcmkiOiAiMTUiLAogICAgImxfd2VpZ2h0X29yaSI6ICIxMzAiLAogICAgImZfYW5nbGVfb3JpIjogIjk3IiwKICAgICJmX3dlaWdodF9vcmkiOiAiMTkwIiwKICAgICJtYXRlcmlhbCI6ICJhbHVtaW51bSIsCiAgICAiYWRqdXN0IjogIjIiCn0=\"\n"
     ]
    }
   ],
   "source": [
    "import json, base64\n",
    "s = {\n",
    "    \"work_id\": \"julietest\",\n",
    "    \"op\": 1,\n",
    "    \"model_id\": \"20230807120000000\",\n",
    "    \"speed\": \"590\",\n",
    "    \"l_angle_ori\": \"15\",\n",
    "    \"l_weight_ori\": \"130\",\n",
    "    \"f_angle_ori\": \"97\",\n",
    "    \"f_weight_ori\": \"190\",\n",
    "    \"material\": \"aluminum\",\n",
    "    \"adjust\": \"2\"\n",
    "}\n",
    "s = json.dumps(s, indent = 4)\n",
    "\n",
    "b = s.encode(\"UTF-8\")\n",
    "e = base64.b64encode(b)\n",
    "argv = e.decode(\"UTF-8\")\n",
    "print(f'python predict.py \"{argv}\"')"
   ]
  },
  {
   "cell_type": "markdown",
   "metadata": {},
   "source": [
    "### export"
   ]
  },
  {
   "cell_type": "code",
   "execution_count": 3,
   "metadata": {},
   "outputs": [
    {
     "name": "stdout",
     "output_type": "stream",
     "text": [
      "python export.py \"ewogICAgInN0YXJ0X3RpbWUiOiAiMjAyMy0wNy0wMSAwMDowMDowMCIsCiAgICAiZW5kX3RpbWUiOiAiMjAyMy0wOS0wNSAyMzo1OTo1OSIKfQ==\"\n"
     ]
    }
   ],
   "source": [
    "import json, base64\n",
    "s = {\n",
    "    \"start_time\": \"2023-07-01 00:00:00\",\n",
    "    \"end_time\": \"2023-09-05 23:59:59\",\n",
    "}\n",
    "# s = {'start_time': '2023-11-21 00:00:00', 'end_time': '2023-11-28 23:59:59'} # 該區段查無資料\n",
    "s = json.dumps(s, indent = 4)\n",
    "\n",
    "b = s.encode(\"UTF-8\")\n",
    "e = base64.b64encode(b)\n",
    "argv = e.decode(\"UTF-8\")\n",
    "print(f'python export.py \"{argv}\"')"
   ]
  }
 ],
 "metadata": {
  "kernelspec": {
   "display_name": ".venv",
   "language": "python",
   "name": "python3"
  },
  "language_info": {
   "codemirror_mode": {
    "name": "ipython",
    "version": 3
   },
   "file_extension": ".py",
   "mimetype": "text/x-python",
   "name": "python",
   "nbconvert_exporter": "python",
   "pygments_lexer": "ipython3",
   "version": "3.8.10"
  },
  "orig_nbformat": 4
 },
 "nbformat": 4,
 "nbformat_minor": 2
}
