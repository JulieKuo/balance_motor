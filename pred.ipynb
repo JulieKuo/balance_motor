{
 "cells": [
  {
   "cell_type": "code",
   "execution_count": 1,
   "metadata": {},
   "outputs": [],
   "source": [
    "import pandas as pd\n",
    "import numpy as np\n",
    "from prog.tools import *\n",
    "from prog.model import *\n",
    "import warnings, pickle, os, json\n",
    "warnings.filterwarnings(\"ignore\")\n",
    "\n",
    "aluminum_division = 12\n",
    "random_state = 99\n",
    "weight_limit = 56\n",
    "l_extra = 6.4\n",
    "f_extra = 8"
   ]
  },
  {
   "cell_type": "code",
   "execution_count": 2,
   "metadata": {},
   "outputs": [],
   "source": [
    "input_ = {\n",
    "    \"work_id\": \"julietest\",\n",
    "    \"op\": 1,\n",
    "    \"model_id\": \"20230807120000000\",\n",
    "    \"speed\": \"590\",\n",
    "    \"l_angle_ori\": \"35\",\n",
    "    \"l_weight_ori\": \"79\",\n",
    "    \"f_angle_ori\": \"75\",\n",
    "    \"f_weight_ori\": \"155\",\n",
    "    \"material\": \"aluminum\", # 'aluminum'\n",
    "}"
   ]
  },
  {
   "cell_type": "code",
   "execution_count": 3,
   "metadata": {},
   "outputs": [],
   "source": [
    "work_id      = input_[\"work_id\"]\n",
    "op           = input_[\"op\"]\n",
    "model_id     = input_[\"model_id\"]\n",
    "speed        = int(input_[\"speed\"])\n",
    "l_angle_ori  = int(input_[\"l_angle_ori\"])\n",
    "l_weight_ori = float(input_[\"l_weight_ori\"])\n",
    "f_angle_ori  = int(input_[\"f_angle_ori\"])\n",
    "f_weight_ori = float(input_[\"f_weight_ori\"])\n",
    "material     = input_[\"material\"]"
   ]
  },
  {
   "cell_type": "code",
   "execution_count": 4,
   "metadata": {},
   "outputs": [],
   "source": [
    "root = r\"C:\\Users\\tzuli\\Documents\\python\\teco\"\n",
    "\n",
    "# 取得predict位置\n",
    "pred_path = os.path.join(root, \"data\", \"predict\")        \n",
    "os.makedirs(pred_path, exist_ok = True)\n",
    "output_json = os.path.join(pred_path, \"output.json\")\n",
    "\n",
    "# 取得model位置     \n",
    "model_detail = os.path.join(root, \"data\", \"train\", model_id, \"model\")\n",
    "\n",
    "config_path = os.path.join(root, \"prog\", \"config.json\")\n",
    "with open(config_path) as f:\n",
    "    config = json.load(f)"
   ]
  },
  {
   "cell_type": "markdown",
   "metadata": {},
   "source": [
    "### Load model"
   ]
  },
  {
   "cell_type": "code",
   "execution_count": 5,
   "metadata": {},
   "outputs": [],
   "source": [
    "side = \"L\"\n",
    "model_l = pickle.load(open(os.path.join(model_detail, f\"{side}_model.pkl\"), \"rb\"))\n",
    "\n",
    "side = \"F\"\n",
    "model_f = pickle.load(open(os.path.join(model_detail, f\"{side}_model.pkl\"), \"rb\"))"
   ]
  },
  {
   "cell_type": "code",
   "execution_count": 6,
   "metadata": {},
   "outputs": [],
   "source": [
    "df_l = pd.DataFrame([[l_angle_ori, l_weight_ori]], columns = [\"初始_L側角度\", \"初始_L側不平衡量\"])\n",
    "df_f = pd.DataFrame([[f_angle_ori, f_weight_ori]], columns = [\"初始_F側角度\", \"初始_F側不平衡量\"])"
   ]
  },
  {
   "cell_type": "code",
   "execution_count": 7,
   "metadata": {},
   "outputs": [
    {
     "data": {
      "text/plain": [
       "(   初始_L側角度  初始_L側不平衡量\n",
       " 0       35       79.0,\n",
       "    初始_F側角度  初始_F側不平衡量\n",
       " 0       75      155.0)"
      ]
     },
     "execution_count": 7,
     "metadata": {},
     "output_type": "execute_result"
    }
   ],
   "source": [
    "df_l, df_f"
   ]
  },
  {
   "cell_type": "code",
   "execution_count": 8,
   "metadata": {},
   "outputs": [],
   "source": [
    "# 超過60補上特定值\n",
    "if df_l.loc[0, \"初始_L側不平衡量\"] > weight_limit:\n",
    "    df_l.loc[0, \"初始_L側不平衡量\"] += l_extra\n",
    "\n",
    "if df_f.loc[0, \"初始_F側不平衡量\"] > weight_limit:\n",
    "    df_f.loc[0, \"初始_F側不平衡量\"] += f_extra"
   ]
  },
  {
   "cell_type": "code",
   "execution_count": 9,
   "metadata": {},
   "outputs": [
    {
     "data": {
      "text/plain": [
       "(   初始_L側角度  初始_L側不平衡量\n",
       " 0       35       85.9,\n",
       "    初始_F側角度  初始_F側不平衡量\n",
       " 0       75      163.0)"
      ]
     },
     "execution_count": 9,
     "metadata": {},
     "output_type": "execute_result"
    }
   ],
   "source": [
    "df_l, df_f"
   ]
  },
  {
   "cell_type": "code",
   "execution_count": 10,
   "metadata": {},
   "outputs": [
    {
     "name": "stdout",
     "output_type": "stream",
     "text": [
      "angle_init = [  0  30  60  90 120 150 180 210 240 270 300 330 360]\n"
     ]
    }
   ],
   "source": [
    "angle_init = np.linspace(0, 360, (aluminum_division + 1)).astype(int)\n",
    "print(f\"angle_init = {angle_init}\")\n",
    "\n",
    "df_l = calculate_angle_proportion(df_l, angle_init, aluminum_division, side = \"L\")            \n",
    "df_f = calculate_angle_proportion(df_f, angle_init, aluminum_division, side = \"F\")"
   ]
  },
  {
   "cell_type": "code",
   "execution_count": 11,
   "metadata": {},
   "outputs": [],
   "source": [
    "df_l = calculate_weight(df_l, side = \"L\")\n",
    "df_f = calculate_weight(df_f, side = \"F\")"
   ]
  },
  {
   "cell_type": "code",
   "execution_count": 12,
   "metadata": {},
   "outputs": [
    {
     "data": {
      "text/html": [
       "<div>\n",
       "<style scoped>\n",
       "    .dataframe tbody tr th:only-of-type {\n",
       "        vertical-align: middle;\n",
       "    }\n",
       "\n",
       "    .dataframe tbody tr th {\n",
       "        vertical-align: top;\n",
       "    }\n",
       "\n",
       "    .dataframe thead th {\n",
       "        text-align: right;\n",
       "    }\n",
       "</style>\n",
       "<table border=\"1\" class=\"dataframe\">\n",
       "  <thead>\n",
       "    <tr style=\"text-align: right;\">\n",
       "      <th></th>\n",
       "      <th>初始_L側角度</th>\n",
       "      <th>初始_L側不平衡量</th>\n",
       "      <th>angle_proportion</th>\n",
       "      <th>angle_0</th>\n",
       "      <th>angle_target</th>\n",
       "      <th>3_raw</th>\n",
       "      <th>7_raw</th>\n",
       "      <th>5_raw</th>\n",
       "      <th>10_raw</th>\n",
       "      <th>3_full</th>\n",
       "      <th>...</th>\n",
       "      <th>7</th>\n",
       "      <th>5</th>\n",
       "      <th>10</th>\n",
       "      <th>3_solution</th>\n",
       "      <th>7_solution</th>\n",
       "      <th>5_solution</th>\n",
       "      <th>10_solution</th>\n",
       "      <th>37_delta</th>\n",
       "      <th>5_delta</th>\n",
       "      <th>10_delta</th>\n",
       "    </tr>\n",
       "  </thead>\n",
       "  <tbody>\n",
       "    <tr>\n",
       "      <th>0</th>\n",
       "      <td>35</td>\n",
       "      <td>85.9</td>\n",
       "      <td>0.166667</td>\n",
       "      <td>0.0</td>\n",
       "      <td>37</td>\n",
       "      <td>26.0</td>\n",
       "      <td>60.0</td>\n",
       "      <td>43.0</td>\n",
       "      <td>86.0</td>\n",
       "      <td>0.0</td>\n",
       "      <td>...</td>\n",
       "      <td>4</td>\n",
       "      <td>43</td>\n",
       "      <td>30</td>\n",
       "      <td>{'6': '1', '20': '1'}</td>\n",
       "      <td>{'4': '1'}</td>\n",
       "      <td>{'7': '1', '16': '1', '20': '1'}</td>\n",
       "      <td>{'7': '2', '16': '1'}</td>\n",
       "      <td>0.0</td>\n",
       "      <td>0.0</td>\n",
       "      <td>0.0</td>\n",
       "    </tr>\n",
       "  </tbody>\n",
       "</table>\n",
       "<p>1 rows × 24 columns</p>\n",
       "</div>"
      ],
      "text/plain": [
       "   初始_L側角度  初始_L側不平衡量  angle_proportion  angle_0 angle_target  3_raw  7_raw  \\\n",
       "0       35       85.9          0.166667      0.0           37   26.0   60.0   \n",
       "\n",
       "   5_raw  10_raw  3_full  ...  7   5  10             3_solution  7_solution  \\\n",
       "0   43.0    86.0     0.0  ...  4  43  30  {'6': '1', '20': '1'}  {'4': '1'}   \n",
       "\n",
       "                         5_solution            10_solution 37_delta 5_delta  \\\n",
       "0  {'7': '1', '16': '1', '20': '1'}  {'7': '2', '16': '1'}      0.0     0.0   \n",
       "\n",
       "  10_delta  \n",
       "0      0.0  \n",
       "\n",
       "[1 rows x 24 columns]"
      ]
     },
     "execution_count": 12,
     "metadata": {},
     "output_type": "execute_result"
    }
   ],
   "source": [
    "df_l.head()"
   ]
  },
  {
   "cell_type": "code",
   "execution_count": 13,
   "metadata": {},
   "outputs": [
    {
     "data": {
      "text/html": [
       "<div>\n",
       "<style scoped>\n",
       "    .dataframe tbody tr th:only-of-type {\n",
       "        vertical-align: middle;\n",
       "    }\n",
       "\n",
       "    .dataframe tbody tr th {\n",
       "        vertical-align: top;\n",
       "    }\n",
       "\n",
       "    .dataframe thead th {\n",
       "        text-align: right;\n",
       "    }\n",
       "</style>\n",
       "<table border=\"1\" class=\"dataframe\">\n",
       "  <thead>\n",
       "    <tr style=\"text-align: right;\">\n",
       "      <th></th>\n",
       "      <th>初始_F側角度</th>\n",
       "      <th>初始_F側不平衡量</th>\n",
       "      <th>angle_proportion</th>\n",
       "      <th>angle_0</th>\n",
       "      <th>angle_target</th>\n",
       "      <th>3_raw</th>\n",
       "      <th>7_raw</th>\n",
       "      <th>5_raw</th>\n",
       "      <th>10_raw</th>\n",
       "      <th>3_full</th>\n",
       "      <th>...</th>\n",
       "      <th>7</th>\n",
       "      <th>5</th>\n",
       "      <th>10</th>\n",
       "      <th>3_solution</th>\n",
       "      <th>7_solution</th>\n",
       "      <th>5_solution</th>\n",
       "      <th>10_solution</th>\n",
       "      <th>37_delta</th>\n",
       "      <th>5_delta</th>\n",
       "      <th>10_delta</th>\n",
       "    </tr>\n",
       "  </thead>\n",
       "  <tbody>\n",
       "    <tr>\n",
       "      <th>0</th>\n",
       "      <td>75</td>\n",
       "      <td>163.0</td>\n",
       "      <td>0.5</td>\n",
       "      <td>0.0</td>\n",
       "      <td>55</td>\n",
       "      <td>49.0</td>\n",
       "      <td>114.0</td>\n",
       "      <td>82.0</td>\n",
       "      <td>163.0</td>\n",
       "      <td>0.0</td>\n",
       "      <td>...</td>\n",
       "      <td>0</td>\n",
       "      <td>26</td>\n",
       "      <td>51</td>\n",
       "      <td>{'4': '1', '5': '1', '20': '2'}</td>\n",
       "      <td>{}</td>\n",
       "      <td>{'6': '1', '20': '1'}</td>\n",
       "      <td>{'4': '1', '7': '1', '20': '2'}</td>\n",
       "      <td>-2.0</td>\n",
       "      <td>0.0</td>\n",
       "      <td>0.0</td>\n",
       "    </tr>\n",
       "  </tbody>\n",
       "</table>\n",
       "<p>1 rows × 24 columns</p>\n",
       "</div>"
      ],
      "text/plain": [
       "   初始_F側角度  初始_F側不平衡量  angle_proportion  angle_0 angle_target  3_raw  7_raw  \\\n",
       "0       75      163.0               0.5      0.0           55   49.0  114.0   \n",
       "\n",
       "   5_raw  10_raw  3_full  ...  7   5  10                       3_solution  \\\n",
       "0   82.0   163.0     0.0  ...  0  26  51  {'4': '1', '5': '1', '20': '2'}   \n",
       "\n",
       "   7_solution             5_solution                      10_solution  \\\n",
       "0          {}  {'6': '1', '20': '1'}  {'4': '1', '7': '1', '20': '2'}   \n",
       "\n",
       "  37_delta 5_delta 10_delta  \n",
       "0     -2.0     0.0      0.0  \n",
       "\n",
       "[1 rows x 24 columns]"
      ]
     },
     "execution_count": 13,
     "metadata": {},
     "output_type": "execute_result"
    }
   ],
   "source": [
    "df_f.head()"
   ]
  },
  {
   "cell_type": "code",
   "execution_count": 14,
   "metadata": {},
   "outputs": [],
   "source": [
    "df_l1 = encoding(df_l, side = \"L\")\n",
    "df_f1 = encoding(df_f, side = \"F\")"
   ]
  },
  {
   "cell_type": "code",
   "execution_count": 15,
   "metadata": {},
   "outputs": [],
   "source": [
    "X_l, y_l = split_data(df_l1, random_state, predict = True)\n",
    "X_f, y_f = split_data(df_f1, random_state, predict = True)"
   ]
  },
  {
   "cell_type": "code",
   "execution_count": 16,
   "metadata": {},
   "outputs": [
    {
     "data": {
      "text/html": [
       "<div>\n",
       "<style scoped>\n",
       "    .dataframe tbody tr th:only-of-type {\n",
       "        vertical-align: middle;\n",
       "    }\n",
       "\n",
       "    .dataframe tbody tr th {\n",
       "        vertical-align: top;\n",
       "    }\n",
       "\n",
       "    .dataframe thead th {\n",
       "        text-align: right;\n",
       "    }\n",
       "</style>\n",
       "<table border=\"1\" class=\"dataframe\">\n",
       "  <thead>\n",
       "    <tr style=\"text-align: right;\">\n",
       "      <th></th>\n",
       "      <th>angle_proportion</th>\n",
       "      <th>angle_0</th>\n",
       "      <th>3</th>\n",
       "      <th>7</th>\n",
       "      <th>37_delta</th>\n",
       "      <th>5</th>\n",
       "      <th>5_delta</th>\n",
       "      <th>10</th>\n",
       "      <th>10_delta</th>\n",
       "    </tr>\n",
       "  </thead>\n",
       "  <tbody>\n",
       "    <tr>\n",
       "      <th>0</th>\n",
       "      <td>0.166667</td>\n",
       "      <td>0.0</td>\n",
       "      <td>0.302678</td>\n",
       "      <td>0.046566</td>\n",
       "      <td>0.0</td>\n",
       "      <td>0.500582</td>\n",
       "      <td>0.0</td>\n",
       "      <td>0.349243</td>\n",
       "      <td>0.0</td>\n",
       "    </tr>\n",
       "  </tbody>\n",
       "</table>\n",
       "</div>"
      ],
      "text/plain": [
       "   angle_proportion  angle_0         3         7  37_delta         5  5_delta  \\\n",
       "0          0.166667      0.0  0.302678  0.046566       0.0  0.500582      0.0   \n",
       "\n",
       "         10  10_delta  \n",
       "0  0.349243       0.0  "
      ]
     },
     "execution_count": 16,
     "metadata": {},
     "output_type": "execute_result"
    }
   ],
   "source": [
    "X_l.head()"
   ]
  },
  {
   "cell_type": "code",
   "execution_count": 17,
   "metadata": {},
   "outputs": [
    {
     "data": {
      "text/html": [
       "<div>\n",
       "<style scoped>\n",
       "    .dataframe tbody tr th:only-of-type {\n",
       "        vertical-align: middle;\n",
       "    }\n",
       "\n",
       "    .dataframe tbody tr th {\n",
       "        vertical-align: top;\n",
       "    }\n",
       "\n",
       "    .dataframe thead th {\n",
       "        text-align: right;\n",
       "    }\n",
       "</style>\n",
       "<table border=\"1\" class=\"dataframe\">\n",
       "  <thead>\n",
       "    <tr style=\"text-align: right;\">\n",
       "      <th></th>\n",
       "      <th>angle_proportion</th>\n",
       "      <th>angle_0</th>\n",
       "      <th>3</th>\n",
       "      <th>7</th>\n",
       "      <th>37_delta</th>\n",
       "      <th>5</th>\n",
       "      <th>5_delta</th>\n",
       "      <th>10</th>\n",
       "      <th>10_delta</th>\n",
       "    </tr>\n",
       "  </thead>\n",
       "  <tbody>\n",
       "    <tr>\n",
       "      <th>0</th>\n",
       "      <td>0.5</td>\n",
       "      <td>0.0</td>\n",
       "      <td>0.300613</td>\n",
       "      <td>0.0</td>\n",
       "      <td>-2.0</td>\n",
       "      <td>0.159509</td>\n",
       "      <td>0.0</td>\n",
       "      <td>0.312883</td>\n",
       "      <td>0.0</td>\n",
       "    </tr>\n",
       "  </tbody>\n",
       "</table>\n",
       "</div>"
      ],
      "text/plain": [
       "   angle_proportion  angle_0         3    7  37_delta         5  5_delta  \\\n",
       "0               0.5      0.0  0.300613  0.0      -2.0  0.159509      0.0   \n",
       "\n",
       "         10  10_delta  \n",
       "0  0.312883       0.0  "
      ]
     },
     "execution_count": 17,
     "metadata": {},
     "output_type": "execute_result"
    }
   ],
   "source": [
    "X_f.head()"
   ]
  },
  {
   "cell_type": "code",
   "execution_count": 18,
   "metadata": {},
   "outputs": [
    {
     "name": "stdout",
     "output_type": "stream",
     "text": [
      "real - l: 0, f: 1\n",
      "pred - l: 0, f: 1\n"
     ]
    }
   ],
   "source": [
    "y_pred_l = model_l.predict(X_l)[0]\n",
    "y_pred_f = model_f.predict(X_f)[0]\n",
    "print(f\"real - l: {y_l.values[0]}, f: {y_f.values[0]}\")\n",
    "print(f\"pred - l: {y_pred_l}, f: {y_pred_f}\")"
   ]
  },
  {
   "cell_type": "code",
   "execution_count": 19,
   "metadata": {},
   "outputs": [
    {
     "data": {
      "text/plain": [
       "{'1:0': {'l_angle_pred': '35',\n",
       "  'l_weight_pred': ['86'],\n",
       "  'l_comb': {'86': {'56': {'count': '1', 'comb': {'20': '2', '16': '1'}},\n",
       "    '30': {'count': '1', 'comb': {'7': '2', '16': '1'}}}},\n",
       "  'f_angle_pred': '75',\n",
       "  'f_weight_pred': ['163'],\n",
       "  'f_comb': {'163': {'56': {'count': '2', 'comb': {'20': '2', '16': '1'}},\n",
       "    '51': {'count': '1', 'comb': {'4': '1', '7': '1', '20': '2'}}}}},\n",
       " '5:5': {'l_angle_pred': '35',\n",
       "  'l_weight_pred': ['43', '43'],\n",
       "  'l_comb': {'43': {'43': {'count': '1',\n",
       "     'comb': {'7': '1', '16': '1', '20': '1'}}}},\n",
       "  'f_angle_pred': '75',\n",
       "  'f_weight_pred': ['82', '82'],\n",
       "  'f_comb': {'82': {'56': {'count': '1', 'comb': {'20': '2', '16': '1'}},\n",
       "    '26': {'count': '1', 'comb': {'6': '1', '20': '1'}}}}},\n",
       " '3:7': {'l_angle_pred': '35',\n",
       "  'l_weight_pred': ['26', '60'],\n",
       "  'l_comb': {'26': {'26': {'count': '1', 'comb': {'6': '1', '20': '1'}}},\n",
       "   '60': {'56': {'count': '1', 'comb': {'20': '2', '16': '1'}},\n",
       "    '4': {'count': '1', 'comb': {'4': '1'}}}},\n",
       "  'f_angle_pred': '75',\n",
       "  'f_weight_pred': ['49', '112'],\n",
       "  'f_comb': {'49': {'49': {'count': '1',\n",
       "     'comb': {'4': '1', '5': '1', '20': '2'}}},\n",
       "   '112': {'56': {'count': '2', 'comb': {'20': '2', '16': '1'}}}}}}"
      ]
     },
     "execution_count": 19,
     "metadata": {},
     "output_type": "execute_result"
    }
   ],
   "source": [
    "l_ans = df_l.iloc[0]\n",
    "f_ans = df_f.iloc[0]\n",
    "\n",
    "proportion = {    \n",
    "    \"1:0\": [\"10\"],\n",
    "    \"5:5\": [\"5\", \"5\"],\n",
    "    \"3:7\": [\"3\", \"7\"]\n",
    "}\n",
    "predicts = {}\n",
    "for key, value in proportion.items():\n",
    "    l_weight_pred = [str(round((l_ans[f\"{value[0]}_full\"] * weight_limit) + l_ans[value[0]]))]\n",
    "    f_weight_pred = [str(round((f_ans[f\"{value[0]}_full\"] * weight_limit) + f_ans[value[0]]))]\n",
    "\n",
    "    if value != [\"10\"]:\n",
    "        l_weight_pred += [str(round((l_ans[f\"{value[1]}_full\"] * weight_limit) + l_ans[value[1]]))]\n",
    "        f_weight_pred += [str(round((f_ans[f\"{value[1]}_full\"] * weight_limit) + f_ans[value[1]]))]\n",
    "    predict = {\n",
    "        \"l_angle_pred\":  str(l_angle_ori),\n",
    "        \"l_weight_pred\": l_weight_pred,\n",
    "        \"l_comb\": {},\n",
    "        \"f_angle_pred\":  str(f_angle_ori),\n",
    "        \"f_weight_pred\": f_weight_pred,\n",
    "        \"f_comb\": {},\n",
    "    }\n",
    "\n",
    "    fill_solution(value, l_ans, predict, l_weight_pred, weight_limit, side = \"l\")\n",
    "    fill_solution(value, f_ans, predict, f_weight_pred, weight_limit, side = \"f\")\n",
    "\n",
    "    predicts[key] = predict\n",
    "    \n",
    "predicts"
   ]
  },
  {
   "cell_type": "code",
   "execution_count": 20,
   "metadata": {},
   "outputs": [
    {
     "data": {
      "text/plain": [
       "{'l_side': '3:7', 'f_side': '5:5'}"
      ]
     },
     "execution_count": 20,
     "metadata": {},
     "output_type": "execute_result"
    }
   ],
   "source": [
    "y_map = {0: \"3:7\", 1: \"5:5\", 2: \"1:0\"}\n",
    "best = {\n",
    "    \"l_side\": y_map[y_pred_l],\n",
    "    \"f_side\": y_map[y_pred_f]\n",
    "}\n",
    "best"
   ]
  },
  {
   "cell_type": "code",
   "execution_count": 21,
   "metadata": {},
   "outputs": [
    {
     "data": {
      "text/plain": [
       "{'status': 'success',\n",
       " 'reason': '',\n",
       " 'work_id': 'julietest',\n",
       " 'op': 1,\n",
       " 'model_id': '20230807120000000',\n",
       " 'predict': {'1:0': {'l_angle_pred': '35',\n",
       "   'l_weight_pred': ['86'],\n",
       "   'l_comb': {'86': {'56': {'count': '1', 'comb': {'20': '2', '16': '1'}},\n",
       "     '30': {'count': '1', 'comb': {'7': '2', '16': '1'}}}},\n",
       "   'f_angle_pred': '75',\n",
       "   'f_weight_pred': ['163'],\n",
       "   'f_comb': {'163': {'56': {'count': '2', 'comb': {'20': '2', '16': '1'}},\n",
       "     '51': {'count': '1', 'comb': {'4': '1', '7': '1', '20': '2'}}}}},\n",
       "  '5:5': {'l_angle_pred': '35',\n",
       "   'l_weight_pred': ['43', '43'],\n",
       "   'l_comb': {'43': {'43': {'count': '1',\n",
       "      'comb': {'7': '1', '16': '1', '20': '1'}}}},\n",
       "   'f_angle_pred': '75',\n",
       "   'f_weight_pred': ['82', '82'],\n",
       "   'f_comb': {'82': {'56': {'count': '1', 'comb': {'20': '2', '16': '1'}},\n",
       "     '26': {'count': '1', 'comb': {'6': '1', '20': '1'}}}}},\n",
       "  '3:7': {'l_angle_pred': '35',\n",
       "   'l_weight_pred': ['26', '60'],\n",
       "   'l_comb': {'26': {'26': {'count': '1', 'comb': {'6': '1', '20': '1'}}},\n",
       "    '60': {'56': {'count': '1', 'comb': {'20': '2', '16': '1'}},\n",
       "     '4': {'count': '1', 'comb': {'4': '1'}}}},\n",
       "   'f_angle_pred': '75',\n",
       "   'f_weight_pred': ['49', '112'],\n",
       "   'f_comb': {'49': {'49': {'count': '1',\n",
       "      'comb': {'4': '1', '5': '1', '20': '2'}}},\n",
       "    '112': {'56': {'count': '2', 'comb': {'20': '2', '16': '1'}}}}}},\n",
       " 'best': {'l_side': '3:7', 'f_side': '5:5'}}"
      ]
     },
     "execution_count": 21,
     "metadata": {},
     "output_type": "execute_result"
    }
   ],
   "source": [
    "result = {\n",
    "    \"status\":   \"success\",\n",
    "    \"reason\":   \"\",\n",
    "    \"work_id\":  work_id,\n",
    "    \"op\":       op,\n",
    "    \"model_id\": model_id,\n",
    "    \"predict\":  predicts,\n",
    "    \"best\": best\n",
    "}\n",
    "result"
   ]
  },
  {
   "cell_type": "code",
   "execution_count": 22,
   "metadata": {},
   "outputs": [],
   "source": [
    "with open(output_json, 'w') as file:\n",
    "    json.dump(result, file, indent = 4)"
   ]
  }
 ],
 "metadata": {
  "kernelspec": {
   "display_name": ".venv",
   "language": "python",
   "name": "python3"
  },
  "language_info": {
   "codemirror_mode": {
    "name": "ipython",
    "version": 3
   },
   "file_extension": ".py",
   "mimetype": "text/x-python",
   "name": "python",
   "nbconvert_exporter": "python",
   "pygments_lexer": "ipython3",
   "version": "3.8.10"
  },
  "orig_nbformat": 4
 },
 "nbformat": 4,
 "nbformat_minor": 2
}
