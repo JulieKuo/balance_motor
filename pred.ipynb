{
 "cells": [
  {
   "cell_type": "code",
   "execution_count": 1,
   "metadata": {},
   "outputs": [],
   "source": [
    "import pandas as pd\n",
    "import warnings, pickle, os, json\n",
    "warnings.filterwarnings(\"ignore\")\n",
    "\n",
    "gap = 40\n",
    "min_change = 20"
   ]
  },
  {
   "cell_type": "code",
   "execution_count": 2,
   "metadata": {},
   "outputs": [],
   "source": [
    "input_ = {\n",
    "    \"work_id\": \"FC236606T1-2\",\n",
    "    \"op\": 1,\n",
    "    \"model_id\": \"20230807120000000\",\n",
    "    \"speed\": \"1000\",\n",
    "    \"l_angle_ori\": \"39\",\n",
    "    \"l_weight_ori\": \"535\",\n",
    "    \"f_angle_ori\": \"209\",\n",
    "    \"f_weight_ori\": \"297\"\n",
    "}"
   ]
  },
  {
   "cell_type": "code",
   "execution_count": 3,
   "metadata": {},
   "outputs": [
    {
     "data": {
      "text/plain": [
       "('FC236606T1-2', 1, 1000, 39, 535, 209, 297)"
      ]
     },
     "execution_count": 3,
     "metadata": {},
     "output_type": "execute_result"
    }
   ],
   "source": [
    "work_id = input_[\"work_id\"]\n",
    "op = input_[\"op\"]\n",
    "model_id = input_[\"model_id\"]\n",
    "speed = int(input_[\"speed\"])\n",
    "l_angle_ori  = int(input_[\"l_angle_ori\"])\n",
    "l_weight_ori = round(float(input_[\"l_weight_ori\"]))\n",
    "f_angle_ori  = int(input_[\"f_angle_ori\"])\n",
    "f_weight_ori = round(float(input_[\"f_weight_ori\"]))\n",
    "work_id, op, speed, l_angle_ori, l_weight_ori, f_angle_ori, f_weight_ori"
   ]
  },
  {
   "cell_type": "code",
   "execution_count": 4,
   "metadata": {},
   "outputs": [],
   "source": [
    "root = r\"C:\\Users\\tzuli\\Documents\\python\\teco\"\n",
    "\n",
    "# 取得predict位置\n",
    "pred_path = os.path.join(root, \"data\", \"predict\")        \n",
    "os.makedirs(pred_path, exist_ok = True)\n",
    "output_json = os.path.join(pred_path, \"output.json\")\n",
    "\n",
    "# 取得model位置     \n",
    "model_detail = os.path.join(root, \"data\", \"train\", model_id, \"model\")"
   ]
  },
  {
   "cell_type": "markdown",
   "metadata": {},
   "source": [
    "### Load model"
   ]
  },
  {
   "cell_type": "code",
   "execution_count": 5,
   "metadata": {},
   "outputs": [],
   "source": [
    "side = \"L\"\n",
    "features = pickle.load(open(os.path.join(model_detail, f\"feat_order.pkl\"), \"rb\"))\n",
    "l_outlier_boundary = pickle.load(open(os.path.join(model_detail, f\"{side}_outlier_boundary.pkl\"), \"rb\"))\n",
    "l_skew_feat = pickle.load(open(os.path.join(model_detail, f\"{side}_skew_feat.pkl\"), \"rb\"))\n",
    "l_pt = pickle.load(open(os.path.join(model_detail, f\"{side}_power_tf.pkl\"), \"rb\"))\n",
    "l_scaler = pickle.load(open(os.path.join(model_detail, f\"{side}_scaler.pkl\"), \"rb\"))\n",
    "l_model = pickle.load(open(os.path.join(model_detail, f\"{side}_model.pkl\"), \"rb\"))\n",
    "\n",
    "side = \"F\"\n",
    "f_outlier_boundary = pickle.load(open(os.path.join(model_detail, f\"{side}_outlier_boundary.pkl\"), \"rb\"))\n",
    "f_skew_feat = pickle.load(open(os.path.join(model_detail, f\"{side}_skew_feat.pkl\"), \"rb\"))\n",
    "f_pt = pickle.load(open(os.path.join(model_detail, f\"{side}_power_tf.pkl\"), \"rb\"))\n",
    "f_scaler = pickle.load(open(os.path.join(model_detail, f\"{side}_scaler.pkl\"), \"rb\"))\n",
    "f_model = pickle.load(open(os.path.join(model_detail, f\"{side}_model.pkl\"), \"rb\"))"
   ]
  },
  {
   "cell_type": "markdown",
   "metadata": {},
   "source": [
    "### Generate candidate values"
   ]
  },
  {
   "cell_type": "code",
   "execution_count": 6,
   "metadata": {},
   "outputs": [
    {
     "name": "stdout",
     "output_type": "stream",
     "text": [
      "l_weight_change = [512, 513, 514, 515, 516, 517, 518, 519, 520, 521, 522, 523, 524, 525, 526, 527, 528, 529, 530, 531, 532, 533, 534, 535, 536, 537, 538, 539, 540, 541, 542, 543, 544, 545, 546, 547, 548, 549, 550, 551, 552, 553, 554, 555, 556, 557, 558, 559, 560, 561, 562, 563, 564, 565, 566, 567, 568, 569, 570, 571, 572, 573, 574, 575, 495, 496, 497, 498, 499, 500, 501, 502, 503, 504, 505, 506, 507, 508, 509, 510, 511]\n",
      "f_weight_change = [257, 258, 259, 260, 261, 262, 263, 264, 265, 266, 267, 268, 269, 270, 271, 272, 273, 274, 275, 276, 277, 278, 279, 280, 281, 282, 283, 284, 285, 286, 287, 288, 289, 290, 291, 292, 293, 294, 295, 296, 297, 298, 299, 300, 301, 302, 303, 304, 305, 306, 307, 308, 309, 310, 311, 312, 313, 314, 315, 316, 317, 318, 319, 320, 321, 322, 323, 324, 325, 326, 327, 328, 329, 330, 331, 332, 333, 334, 335, 336, 337]\n"
     ]
    }
   ],
   "source": [
    "l_weight_change, f_weight_change = [], []\n",
    "for i in range(gap+1):\n",
    "    l_weight_change.extend([max(min_change, l_weight_ori + i), max(min_change, l_weight_ori - i)])\n",
    "    f_weight_change.extend([max(min_change, f_weight_ori + i), max(min_change, f_weight_ori - i)])\n",
    "l_weight_change = list(set(l_weight_change))\n",
    "f_weight_change = list(set(f_weight_change))\n",
    "\n",
    "print(f\"l_weight_change = {l_weight_change}\")\n",
    "print(f\"f_weight_change = {f_weight_change}\")"
   ]
  },
  {
   "cell_type": "code",
   "execution_count": 7,
   "metadata": {},
   "outputs": [
    {
     "name": "stdout",
     "output_type": "stream",
     "text": [
      "l_angle_change = [69, 39, 9, 79, 49, 19, 59, 29, 359]\n",
      "f_angle_change = [229, 199, 169, 239, 209, 179, 249, 219, 189]\n"
     ]
    }
   ],
   "source": [
    "l_angle_change0, f_angle_change0 = [], []\n",
    "for i in range(0, gap+1, 10):\n",
    "    l_angle_change0.extend([l_angle_ori + i, l_angle_ori - i])\n",
    "    f_angle_change0.extend([f_angle_ori + i, f_angle_ori - i])\n",
    "l_angle_change0 = list(set(l_angle_change0))\n",
    "f_angle_change0 = list(set(f_angle_change0))\n",
    "\n",
    "\n",
    "l_angle_change = []\n",
    "for angle in l_angle_change0:\n",
    "    if angle > 360:\n",
    "        l_angle_change.append(angle - 360)\n",
    "    elif angle < 0:\n",
    "        l_angle_change.append(360 + angle)\n",
    "    else:\n",
    "        l_angle_change.append(angle)\n",
    "\n",
    "\n",
    "f_angle_change = []\n",
    "for angle in f_angle_change0:\n",
    "    if angle > 360:\n",
    "        f_angle_change.append(angle - 360)\n",
    "    elif angle < 0:\n",
    "        f_angle_change.append(360 + angle)\n",
    "    else:\n",
    "        f_angle_change.append(angle)\n",
    "        \n",
    "print(f\"l_angle_change = {l_angle_change}\")\n",
    "print(f\"f_angle_change = {f_angle_change}\")"
   ]
  },
  {
   "cell_type": "markdown",
   "metadata": {},
   "source": [
    "### Generate candidate combinations"
   ]
  },
  {
   "cell_type": "code",
   "execution_count": 8,
   "metadata": {},
   "outputs": [
    {
     "data": {
      "text/plain": [
       "531441"
      ]
     },
     "execution_count": 8,
     "metadata": {},
     "output_type": "execute_result"
    }
   ],
   "source": [
    "# 循環生成所有组合\n",
    "all_combinations = []\n",
    "for a in l_angle_change :\n",
    "    for b in l_weight_change:\n",
    "        for c in f_angle_change:\n",
    "            for d in f_weight_change:\n",
    "                x = [speed, l_angle_ori, l_weight_ori, f_angle_ori, f_weight_ori, a, b, c, d]\n",
    "                all_combinations.append(x)\n",
    "                \n",
    "len(all_combinations)"
   ]
  },
  {
   "cell_type": "code",
   "execution_count": 9,
   "metadata": {},
   "outputs": [
    {
     "data": {
      "text/plain": [
       "<IntegerArray>\n",
       "[1, 2, 3]\n",
       "Length: 3, dtype: Int64"
      ]
     },
     "execution_count": 9,
     "metadata": {},
     "output_type": "execute_result"
    }
   ],
   "source": [
    "import pandas as pd\n",
    "a = pd.array([1,2,3])\n",
    "a"
   ]
  },
  {
   "cell_type": "code",
   "execution_count": 10,
   "metadata": {},
   "outputs": [
    {
     "data": {
      "text/html": [
       "<div>\n",
       "<style scoped>\n",
       "    .dataframe tbody tr th:only-of-type {\n",
       "        vertical-align: middle;\n",
       "    }\n",
       "\n",
       "    .dataframe tbody tr th {\n",
       "        vertical-align: top;\n",
       "    }\n",
       "\n",
       "    .dataframe thead th {\n",
       "        text-align: right;\n",
       "    }\n",
       "</style>\n",
       "<table border=\"1\" class=\"dataframe\">\n",
       "  <thead>\n",
       "    <tr style=\"text-align: right;\">\n",
       "      <th></th>\n",
       "      <th>平衡轉速</th>\n",
       "      <th>初始_L側角度</th>\n",
       "      <th>初始_L側不平衡量</th>\n",
       "      <th>初始_F側角度</th>\n",
       "      <th>初始_F側不平衡量</th>\n",
       "      <th>平衡_L側角度</th>\n",
       "      <th>平衡_L側配重</th>\n",
       "      <th>平衡_F側角度</th>\n",
       "      <th>平衡_F側配重</th>\n",
       "    </tr>\n",
       "  </thead>\n",
       "  <tbody>\n",
       "    <tr>\n",
       "      <th>0</th>\n",
       "      <td>1000</td>\n",
       "      <td>39</td>\n",
       "      <td>535</td>\n",
       "      <td>209</td>\n",
       "      <td>297</td>\n",
       "      <td>69</td>\n",
       "      <td>512</td>\n",
       "      <td>229</td>\n",
       "      <td>257</td>\n",
       "    </tr>\n",
       "    <tr>\n",
       "      <th>1</th>\n",
       "      <td>1000</td>\n",
       "      <td>39</td>\n",
       "      <td>535</td>\n",
       "      <td>209</td>\n",
       "      <td>297</td>\n",
       "      <td>69</td>\n",
       "      <td>512</td>\n",
       "      <td>229</td>\n",
       "      <td>258</td>\n",
       "    </tr>\n",
       "    <tr>\n",
       "      <th>2</th>\n",
       "      <td>1000</td>\n",
       "      <td>39</td>\n",
       "      <td>535</td>\n",
       "      <td>209</td>\n",
       "      <td>297</td>\n",
       "      <td>69</td>\n",
       "      <td>512</td>\n",
       "      <td>229</td>\n",
       "      <td>259</td>\n",
       "    </tr>\n",
       "  </tbody>\n",
       "</table>\n",
       "</div>"
      ],
      "text/plain": [
       "   平衡轉速  初始_L側角度  初始_L側不平衡量  初始_F側角度  初始_F側不平衡量  平衡_L側角度  平衡_L側配重  平衡_F側角度  \\\n",
       "0  1000       39        535      209        297       69      512      229   \n",
       "1  1000       39        535      209        297       69      512      229   \n",
       "2  1000       39        535      209        297       69      512      229   \n",
       "\n",
       "   平衡_F側配重  \n",
       "0      257  \n",
       "1      258  \n",
       "2      259  "
      ]
     },
     "execution_count": 10,
     "metadata": {},
     "output_type": "execute_result"
    }
   ],
   "source": [
    "df_comb = pd.DataFrame(\n",
    "    all_combinations, \n",
    "    columns = ['平衡轉速', '初始_L側角度', '初始_L側不平衡量', '初始_F側角度', '初始_F側不平衡量', '平衡_L側角度', '平衡_L側配重', '平衡_F側角度', '平衡_F側配重']\n",
    "    )\n",
    "df_pred = df_comb.copy()\n",
    "df_pred.head(3)"
   ]
  },
  {
   "cell_type": "markdown",
   "metadata": {},
   "source": [
    "### Generate features"
   ]
  },
  {
   "cell_type": "code",
   "execution_count": 11,
   "metadata": {},
   "outputs": [
    {
     "data": {
      "text/html": [
       "<div>\n",
       "<style scoped>\n",
       "    .dataframe tbody tr th:only-of-type {\n",
       "        vertical-align: middle;\n",
       "    }\n",
       "\n",
       "    .dataframe tbody tr th {\n",
       "        vertical-align: top;\n",
       "    }\n",
       "\n",
       "    .dataframe thead th {\n",
       "        text-align: right;\n",
       "    }\n",
       "</style>\n",
       "<table border=\"1\" class=\"dataframe\">\n",
       "  <thead>\n",
       "    <tr style=\"text-align: right;\">\n",
       "      <th></th>\n",
       "      <th>平衡轉速</th>\n",
       "      <th>初始_L側角度</th>\n",
       "      <th>初始_L側不平衡量</th>\n",
       "      <th>初始_F側角度</th>\n",
       "      <th>初始_F側不平衡量</th>\n",
       "      <th>平衡_L側角度</th>\n",
       "      <th>平衡_L側配重</th>\n",
       "      <th>平衡_F側角度</th>\n",
       "      <th>平衡_F側配重</th>\n",
       "      <th>預期_F側不平衡量</th>\n",
       "      <th>預期_L側不平衡量</th>\n",
       "      <th>初始_不平衡量_diff</th>\n",
       "      <th>平衡_不平衡量_diff</th>\n",
       "      <th>初始_角度_diff</th>\n",
       "      <th>平衡_角度_diff</th>\n",
       "    </tr>\n",
       "  </thead>\n",
       "  <tbody>\n",
       "    <tr>\n",
       "      <th>0</th>\n",
       "      <td>1000</td>\n",
       "      <td>39</td>\n",
       "      <td>535</td>\n",
       "      <td>209</td>\n",
       "      <td>297</td>\n",
       "      <td>69</td>\n",
       "      <td>512</td>\n",
       "      <td>229</td>\n",
       "      <td>257</td>\n",
       "      <td>40</td>\n",
       "      <td>23</td>\n",
       "      <td>238</td>\n",
       "      <td>255</td>\n",
       "      <td>170</td>\n",
       "      <td>160</td>\n",
       "    </tr>\n",
       "    <tr>\n",
       "      <th>1</th>\n",
       "      <td>1000</td>\n",
       "      <td>39</td>\n",
       "      <td>535</td>\n",
       "      <td>209</td>\n",
       "      <td>297</td>\n",
       "      <td>69</td>\n",
       "      <td>512</td>\n",
       "      <td>229</td>\n",
       "      <td>258</td>\n",
       "      <td>39</td>\n",
       "      <td>23</td>\n",
       "      <td>238</td>\n",
       "      <td>254</td>\n",
       "      <td>170</td>\n",
       "      <td>160</td>\n",
       "    </tr>\n",
       "    <tr>\n",
       "      <th>2</th>\n",
       "      <td>1000</td>\n",
       "      <td>39</td>\n",
       "      <td>535</td>\n",
       "      <td>209</td>\n",
       "      <td>297</td>\n",
       "      <td>69</td>\n",
       "      <td>512</td>\n",
       "      <td>229</td>\n",
       "      <td>259</td>\n",
       "      <td>38</td>\n",
       "      <td>23</td>\n",
       "      <td>238</td>\n",
       "      <td>253</td>\n",
       "      <td>170</td>\n",
       "      <td>160</td>\n",
       "    </tr>\n",
       "  </tbody>\n",
       "</table>\n",
       "</div>"
      ],
      "text/plain": [
       "   平衡轉速  初始_L側角度  初始_L側不平衡量  初始_F側角度  初始_F側不平衡量  平衡_L側角度  平衡_L側配重  平衡_F側角度  \\\n",
       "0  1000       39        535      209        297       69      512      229   \n",
       "1  1000       39        535      209        297       69      512      229   \n",
       "2  1000       39        535      209        297       69      512      229   \n",
       "\n",
       "   平衡_F側配重  預期_F側不平衡量  預期_L側不平衡量  初始_不平衡量_diff  平衡_不平衡量_diff  初始_角度_diff  \\\n",
       "0      257         40         23           238           255         170   \n",
       "1      258         39         23           238           254         170   \n",
       "2      259         38         23           238           253         170   \n",
       "\n",
       "   平衡_角度_diff  \n",
       "0         160  \n",
       "1         160  \n",
       "2         160  "
      ]
     },
     "execution_count": 11,
     "metadata": {},
     "output_type": "execute_result"
    }
   ],
   "source": [
    "df_pred[\"預期_F側不平衡量\"] = df_pred[\"初始_F側不平衡量\"] - df_pred[\"平衡_F側配重\"]\n",
    "df_pred[\"預期_L側不平衡量\"] = df_pred[\"初始_L側不平衡量\"] - df_pred[\"平衡_L側配重\"]\n",
    "\n",
    "df_pred[\"初始_不平衡量_diff\"] = abs(df_pred[\"初始_L側不平衡量\"] - df_pred[\"初始_F側不平衡量\"])\n",
    "df_pred[\"平衡_不平衡量_diff\"] = abs(df_pred[\"平衡_L側配重\"] - df_pred[\"平衡_F側配重\"])\n",
    "\n",
    "diff = abs(df_pred[\"初始_L側角度\"] - df_pred[\"初始_F側角度\"])\n",
    "df_pred[\"初始_角度_diff\"] = diff.apply(lambda X: min(X, 360 - X))\n",
    "diff = abs(df_pred[\"平衡_L側角度\"] - df_pred[\"平衡_F側角度\"])\n",
    "df_pred[\"平衡_角度_diff\"] = diff.apply(lambda X: min(X, 360 - X))\n",
    "df_pred.head(3)"
   ]
  },
  {
   "cell_type": "code",
   "execution_count": 12,
   "metadata": {},
   "outputs": [],
   "source": [
    "l_df, f_df = df_pred.copy(), df_pred.copy()"
   ]
  },
  {
   "cell_type": "markdown",
   "metadata": {},
   "source": [
    "### Feature engineering"
   ]
  },
  {
   "cell_type": "code",
   "execution_count": 13,
   "metadata": {},
   "outputs": [],
   "source": [
    "for col in features[1:]:    \n",
    "    max_ = l_outlier_boundary[col][\"max\"]\n",
    "    max_index = l_df.index[l_df[col] > max_].to_list()\n",
    "    l_df.loc[max_index, col] = max_\n",
    "\n",
    "    min_ = l_outlier_boundary[col][\"min\"]\n",
    "    min_index = l_df.index[l_df[col] < min_].to_list()\n",
    "    l_df.loc[min_index, col] = min_\n",
    "\n",
    "    max_ = f_outlier_boundary[col][\"max\"]\n",
    "    max_index = f_df.index[f_df[col] > max_].to_list()\n",
    "    f_df.loc[max_index, col] = max_\n",
    "\n",
    "    min_ = f_outlier_boundary[col][\"min\"]\n",
    "    min_index = f_df.index[f_df[col] < min_].to_list()\n",
    "    f_df.loc[min_index, col] = min_"
   ]
  },
  {
   "cell_type": "code",
   "execution_count": 14,
   "metadata": {},
   "outputs": [],
   "source": [
    "l_df[l_skew_feat] = l_pt.transform(l_df[l_skew_feat])\n",
    "f_df[f_skew_feat] = f_pt.transform(f_df[f_skew_feat])\n",
    "l_df[features]    = l_scaler.transform(l_df[features])\n",
    "f_df[features]    = f_scaler.transform(f_df[features])"
   ]
  },
  {
   "cell_type": "markdown",
   "metadata": {},
   "source": [
    "### Predict"
   ]
  },
  {
   "cell_type": "code",
   "execution_count": 15,
   "metadata": {},
   "outputs": [],
   "source": [
    "pred_l = l_model.predict(l_df)\n",
    "pred_f = f_model.predict(f_df)"
   ]
  },
  {
   "cell_type": "code",
   "execution_count": 16,
   "metadata": {},
   "outputs": [],
   "source": [
    "df_comb[\"最終_L側不平衡量\"] = pred_l\n",
    "df_comb[\"最終_F側不平衡量\"] = pred_f"
   ]
  },
  {
   "cell_type": "markdown",
   "metadata": {},
   "source": [
    "### Find best combination"
   ]
  },
  {
   "cell_type": "code",
   "execution_count": 17,
   "metadata": {},
   "outputs": [
    {
     "data": {
      "text/html": [
       "<div>\n",
       "<style scoped>\n",
       "    .dataframe tbody tr th:only-of-type {\n",
       "        vertical-align: middle;\n",
       "    }\n",
       "\n",
       "    .dataframe tbody tr th {\n",
       "        vertical-align: top;\n",
       "    }\n",
       "\n",
       "    .dataframe thead th {\n",
       "        text-align: right;\n",
       "    }\n",
       "</style>\n",
       "<table border=\"1\" class=\"dataframe\">\n",
       "  <thead>\n",
       "    <tr style=\"text-align: right;\">\n",
       "      <th></th>\n",
       "      <th>平衡轉速</th>\n",
       "      <th>初始_L側角度</th>\n",
       "      <th>初始_L側不平衡量</th>\n",
       "      <th>初始_F側角度</th>\n",
       "      <th>初始_F側不平衡量</th>\n",
       "      <th>平衡_L側角度</th>\n",
       "      <th>平衡_L側配重</th>\n",
       "      <th>平衡_F側角度</th>\n",
       "      <th>平衡_F側配重</th>\n",
       "      <th>最終_L側不平衡量</th>\n",
       "      <th>最終_F側不平衡量</th>\n",
       "      <th>總不平衡量</th>\n",
       "    </tr>\n",
       "  </thead>\n",
       "  <tbody>\n",
       "    <tr>\n",
       "      <th>198482</th>\n",
       "      <td>1000</td>\n",
       "      <td>39</td>\n",
       "      <td>535</td>\n",
       "      <td>209</td>\n",
       "      <td>297</td>\n",
       "      <td>79</td>\n",
       "      <td>541</td>\n",
       "      <td>169</td>\n",
       "      <td>289</td>\n",
       "      <td>4.892395</td>\n",
       "      <td>10.401699</td>\n",
       "      <td>15.294094</td>\n",
       "    </tr>\n",
       "  </tbody>\n",
       "</table>\n",
       "</div>"
      ],
      "text/plain": [
       "        平衡轉速  初始_L側角度  初始_L側不平衡量  初始_F側角度  初始_F側不平衡量  平衡_L側角度  平衡_L側配重  \\\n",
       "198482  1000       39        535      209        297       79      541   \n",
       "\n",
       "        平衡_F側角度  平衡_F側配重  最終_L側不平衡量  最終_F側不平衡量      總不平衡量  \n",
       "198482      169      289   4.892395  10.401699  15.294094  "
      ]
     },
     "execution_count": 17,
     "metadata": {},
     "output_type": "execute_result"
    }
   ],
   "source": [
    "df_comb[\"總不平衡量\"] = df_comb.eval(\"(abs(最終_L側不平衡量) + abs(最終_F側不平衡量))\")\n",
    "# 先嚴格篩選，在寬鬆篩選\n",
    "df_comb1 = df_comb.query(\"((平衡_L側配重 > 0) and (平衡_F側配重 > 0)) and ((最終_L側不平衡量 >= 0.1) and (最終_F側不平衡量 >= 0.1))\")\n",
    "if len(df_comb1) == 0:\n",
    "    df_comb1 = df_comb.query(\"(最終_L側不平衡量 >= 0.1) and (最終_F側不平衡量 > 0.1)\")\n",
    "if len(df_comb1) == 0:\n",
    "    df_comb1 = df_comb.copy()\n",
    "comb_index = df_comb1[\"總不平衡量\"].idxmin()\n",
    "result = df_comb.loc[[comb_index]]\n",
    "result"
   ]
  },
  {
   "cell_type": "code",
   "execution_count": 18,
   "metadata": {},
   "outputs": [],
   "source": [
    "result = result[['平衡_L側角度', '平衡_L側配重', '平衡_F側角度', '平衡_F側配重']]\n",
    "result = result.astype(str)\n",
    "result.columns = [\"l_angle_pred\", \"l_weight_pred\", \"f_angle_pred\", \"f_weight_pred\"]\n",
    "result = result.to_dict(orient = \"records\")[0]"
   ]
  },
  {
   "cell_type": "markdown",
   "metadata": {},
   "source": [
    "### Save output"
   ]
  },
  {
   "cell_type": "code",
   "execution_count": 19,
   "metadata": {},
   "outputs": [
    {
     "data": {
      "text/plain": [
       "{'status': 'success',\n",
       " 'reason': '',\n",
       " 'work_id': 'FC236606T1-2',\n",
       " 'op': 1,\n",
       " 'model_id': '20230807120000000',\n",
       " 'predict': {'l_angle_pred': '79',\n",
       "  'l_weight_pred': '541',\n",
       "  'f_angle_pred': '169',\n",
       "  'f_weight_pred': '289'}}"
      ]
     },
     "execution_count": 19,
     "metadata": {},
     "output_type": "execute_result"
    }
   ],
   "source": [
    "result = {\n",
    "    \"status\":   \"success\",\n",
    "    \"reason\":   \"\",\n",
    "    \"work_id\":  work_id,\n",
    "    \"op\":       op,\n",
    "    \"model_id\": model_id,\n",
    "    \"predict\":  result\n",
    "}\n",
    "result"
   ]
  },
  {
   "cell_type": "code",
   "execution_count": 20,
   "metadata": {},
   "outputs": [],
   "source": [
    "with open(output_json, 'w') as file:\n",
    "    json.dump(result, file, indent = 4)"
   ]
  },
  {
   "cell_type": "code",
   "execution_count": null,
   "metadata": {},
   "outputs": [],
   "source": []
  }
 ],
 "metadata": {
  "kernelspec": {
   "display_name": ".venv",
   "language": "python",
   "name": "python3"
  },
  "language_info": {
   "codemirror_mode": {
    "name": "ipython",
    "version": 3
   },
   "file_extension": ".py",
   "mimetype": "text/x-python",
   "name": "python",
   "nbconvert_exporter": "python",
   "pygments_lexer": "ipython3",
   "version": "3.8.10"
  },
  "orig_nbformat": 4
 },
 "nbformat": 4,
 "nbformat_minor": 2
}
