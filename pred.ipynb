{
 "cells": [
  {
   "cell_type": "code",
   "execution_count": 1,
   "metadata": {},
   "outputs": [],
   "source": [
    "import pandas as pd\n",
    "import numpy as np\n",
    "from prog.tool import *\n",
    "from prog.model import *\n",
    "import warnings, pickle, os, json\n",
    "warnings.filterwarnings(\"ignore\")\n",
    "\n",
    "aluminum_division = 12\n",
    "random_state = 99\n",
    "weight_limit = 56\n",
    "l_extra = 6.4\n",
    "f_extra = 8"
   ]
  },
  {
   "cell_type": "code",
   "execution_count": 2,
   "metadata": {},
   "outputs": [],
   "source": [
    "input_ = {\n",
    "    \"work_id\": \"julietest\",\n",
    "    \"op\": 1,\n",
    "    \"model_id\": \"20230807120000000\",\n",
    "    \"speed\": \"590\",\n",
    "    \"l_angle_ori\": \"10\",\n",
    "    \"l_weight_ori\": \"210\",\n",
    "    \"f_angle_ori\": \"45\",\n",
    "    \"f_weight_ori\": \"10\",\n",
    "    \"material\": \"aluminum\",\n",
    "    \"adjust\": \"1\"\n",
    "}"
   ]
  },
  {
   "cell_type": "code",
   "execution_count": 3,
   "metadata": {},
   "outputs": [],
   "source": [
    "def adjust_angle(angle, adjustment):\n",
    "    angle += adjustment\n",
    "    if angle < 0:\n",
    "        angle += 360\n",
    "\n",
    "    elif angle >= 360:\n",
    "        angle -= 360\n",
    "\n",
    "    return round(angle)"
   ]
  },
  {
   "cell_type": "code",
   "execution_count": 4,
   "metadata": {},
   "outputs": [],
   "source": [
    "adjustments = {\n",
    "    1: -15, \n",
    "    2: -7.5,\n",
    "    3: 0, \n",
    "    4: 7.5, \n",
    "    5: 15\n",
    "}"
   ]
  },
  {
   "cell_type": "code",
   "execution_count": 5,
   "metadata": {},
   "outputs": [],
   "source": [
    "work_id      = input_[\"work_id\"]\n",
    "op           = input_[\"op\"]\n",
    "model_id     = input_[\"model_id\"]\n",
    "speed        = int(input_[\"speed\"])\n",
    "adjust       = int(input_[\"adjust\"])\n",
    "l_angle_ori = int(input_[\"l_angle_ori\"])\n",
    "l_angle_ori1  = adjust_angle(l_angle_ori, adjustments[adjust])\n",
    "l_weight_ori = float(input_[\"l_weight_ori\"])\n",
    "f_angle_ori = int(input_[\"f_angle_ori\"])\n",
    "f_angle_ori1  = adjust_angle(f_angle_ori, adjustments[adjust])\n",
    "f_weight_ori = float(input_[\"f_weight_ori\"])\n",
    "material     = input_[\"material\"]"
   ]
  },
  {
   "cell_type": "code",
   "execution_count": 6,
   "metadata": {},
   "outputs": [],
   "source": [
    "root = r\"C:\\Users\\tzuli\\Documents\\python\\teco\"\n",
    "\n",
    "# 取得predict位置\n",
    "pred_path = os.path.join(root, \"data\", \"predict\")        \n",
    "os.makedirs(pred_path, exist_ok = True)\n",
    "output_json = os.path.join(pred_path, \"output.json\")\n",
    "\n",
    "# 取得model位置     \n",
    "model_detail = os.path.join(root, \"data\", \"train\", model_id, \"model\")\n",
    "\n",
    "config_path = os.path.join(root, \"prog\", \"config.json\")\n",
    "with open(config_path) as f:\n",
    "    config = json.load(f)"
   ]
  },
  {
   "cell_type": "markdown",
   "metadata": {},
   "source": [
    "### Load model"
   ]
  },
  {
   "cell_type": "code",
   "execution_count": 7,
   "metadata": {},
   "outputs": [],
   "source": [
    "side = \"L\"\n",
    "model_l = pickle.load(open(os.path.join(model_detail, f\"{side}_model.pkl\"), \"rb\"))\n",
    "\n",
    "side = \"F\"\n",
    "model_f = pickle.load(open(os.path.join(model_detail, f\"{side}_model.pkl\"), \"rb\"))"
   ]
  },
  {
   "cell_type": "code",
   "execution_count": 8,
   "metadata": {},
   "outputs": [],
   "source": [
    "df_l = pd.DataFrame([[l_angle_ori1, l_weight_ori]], columns = [\"初始_L側角度\", \"初始_L側不平衡量\"])\n",
    "df_f = pd.DataFrame([[f_angle_ori1, f_weight_ori]], columns = [\"初始_F側角度\", \"初始_F側不平衡量\"])"
   ]
  },
  {
   "cell_type": "code",
   "execution_count": 9,
   "metadata": {},
   "outputs": [
    {
     "data": {
      "text/plain": [
       "(   初始_L側角度  初始_L側不平衡量\n",
       " 0      355      210.0,\n",
       "    初始_F側角度  初始_F側不平衡量\n",
       " 0       30       10.0)"
      ]
     },
     "execution_count": 9,
     "metadata": {},
     "output_type": "execute_result"
    }
   ],
   "source": [
    "df_l, df_f"
   ]
  },
  {
   "cell_type": "code",
   "execution_count": 10,
   "metadata": {},
   "outputs": [],
   "source": [
    "# 超過60補上特定值\n",
    "if df_l.loc[0, \"初始_L側不平衡量\"] > weight_limit:\n",
    "    df_l.loc[0, \"初始_L側不平衡量\"] += l_extra\n",
    "\n",
    "if df_f.loc[0, \"初始_F側不平衡量\"] > weight_limit:\n",
    "    df_f.loc[0, \"初始_F側不平衡量\"] += f_extra"
   ]
  },
  {
   "cell_type": "code",
   "execution_count": 11,
   "metadata": {},
   "outputs": [
    {
     "data": {
      "text/plain": [
       "(   初始_L側角度  初始_L側不平衡量\n",
       " 0      355      216.4,\n",
       "    初始_F側角度  初始_F側不平衡量\n",
       " 0       30       10.0)"
      ]
     },
     "execution_count": 11,
     "metadata": {},
     "output_type": "execute_result"
    }
   ],
   "source": [
    "df_l, df_f"
   ]
  },
  {
   "cell_type": "code",
   "execution_count": 12,
   "metadata": {},
   "outputs": [
    {
     "name": "stdout",
     "output_type": "stream",
     "text": [
      "angle_init = [  0  30  60  90 120 150 180 210 240 270 300 330 360]\n"
     ]
    }
   ],
   "source": [
    "angle_init = np.linspace(0, 360, (aluminum_division + 1)).astype(int)\n",
    "print(f\"angle_init = {angle_init}\")\n",
    "\n",
    "df_l = calculate_angle_proportion(df_l, angle_init, aluminum_division, side = \"L\")            \n",
    "df_f = calculate_angle_proportion(df_f, angle_init, aluminum_division, side = \"F\")"
   ]
  },
  {
   "cell_type": "code",
   "execution_count": 13,
   "metadata": {},
   "outputs": [],
   "source": [
    "df_l = calculate_weight(df_l, side = \"L\")\n",
    "df_f = calculate_weight(df_f, side = \"F\")"
   ]
  },
  {
   "cell_type": "code",
   "execution_count": 14,
   "metadata": {},
   "outputs": [
    {
     "data": {
      "text/html": [
       "<div>\n",
       "<style scoped>\n",
       "    .dataframe tbody tr th:only-of-type {\n",
       "        vertical-align: middle;\n",
       "    }\n",
       "\n",
       "    .dataframe tbody tr th {\n",
       "        vertical-align: top;\n",
       "    }\n",
       "\n",
       "    .dataframe thead th {\n",
       "        text-align: right;\n",
       "    }\n",
       "</style>\n",
       "<table border=\"1\" class=\"dataframe\">\n",
       "  <thead>\n",
       "    <tr style=\"text-align: right;\">\n",
       "      <th></th>\n",
       "      <th>初始_L側角度</th>\n",
       "      <th>初始_L側不平衡量</th>\n",
       "      <th>angle_proportion</th>\n",
       "      <th>angle_0</th>\n",
       "      <th>angle_target</th>\n",
       "      <th>prop_37</th>\n",
       "      <th>3_raw</th>\n",
       "      <th>7_raw</th>\n",
       "      <th>5_raw</th>\n",
       "      <th>10_raw</th>\n",
       "      <th>...</th>\n",
       "      <th>7_amt</th>\n",
       "      <th>5_amt</th>\n",
       "      <th>10_amt</th>\n",
       "      <th>3_solution</th>\n",
       "      <th>7_solution</th>\n",
       "      <th>5_solution</th>\n",
       "      <th>10_solution</th>\n",
       "      <th>37_delta</th>\n",
       "      <th>5_delta</th>\n",
       "      <th>10_delta</th>\n",
       "    </tr>\n",
       "  </thead>\n",
       "  <tbody>\n",
       "    <tr>\n",
       "      <th>0</th>\n",
       "      <td>355</td>\n",
       "      <td>216.4</td>\n",
       "      <td>0.166667</td>\n",
       "      <td>0.0</td>\n",
       "      <td>37</td>\n",
       "      <td>37</td>\n",
       "      <td>64.92</td>\n",
       "      <td>151.48</td>\n",
       "      <td>108.2</td>\n",
       "      <td>216.4</td>\n",
       "      <td>...</td>\n",
       "      <td>1</td>\n",
       "      <td>1</td>\n",
       "      <td>2</td>\n",
       "      <td>{'4': '1', '5': '1'}</td>\n",
       "      <td>{'7': '1', '16': '2'}</td>\n",
       "      <td>{'16': '2', '20': '1'}</td>\n",
       "      <td>{'4': '1', '20': '1'}</td>\n",
       "      <td>-0.4</td>\n",
       "      <td>-0.2</td>\n",
       "      <td>-0.4</td>\n",
       "    </tr>\n",
       "  </tbody>\n",
       "</table>\n",
       "<p>1 rows × 29 columns</p>\n",
       "</div>"
      ],
      "text/plain": [
       "   初始_L側角度  初始_L側不平衡量  angle_proportion  angle_0 angle_target prop_37  3_raw  \\\n",
       "0      355      216.4          0.166667      0.0           37      37  64.92   \n",
       "\n",
       "    7_raw  5_raw  10_raw  ...  7_amt  5_amt  10_amt            3_solution  \\\n",
       "0  151.48  108.2   216.4  ...      1      1       2  {'4': '1', '5': '1'}   \n",
       "\n",
       "              7_solution              5_solution            10_solution  \\\n",
       "0  {'7': '1', '16': '2'}  {'16': '2', '20': '1'}  {'4': '1', '20': '1'}   \n",
       "\n",
       "   37_delta  5_delta  10_delta  \n",
       "0      -0.4     -0.2      -0.4  \n",
       "\n",
       "[1 rows x 29 columns]"
      ]
     },
     "execution_count": 14,
     "metadata": {},
     "output_type": "execute_result"
    }
   ],
   "source": [
    "df_l.head()"
   ]
  },
  {
   "cell_type": "code",
   "execution_count": 15,
   "metadata": {},
   "outputs": [
    {
     "data": {
      "text/html": [
       "<div>\n",
       "<style scoped>\n",
       "    .dataframe tbody tr th:only-of-type {\n",
       "        vertical-align: middle;\n",
       "    }\n",
       "\n",
       "    .dataframe tbody tr th {\n",
       "        vertical-align: top;\n",
       "    }\n",
       "\n",
       "    .dataframe thead th {\n",
       "        text-align: right;\n",
       "    }\n",
       "</style>\n",
       "<table border=\"1\" class=\"dataframe\">\n",
       "  <thead>\n",
       "    <tr style=\"text-align: right;\">\n",
       "      <th></th>\n",
       "      <th>初始_F側角度</th>\n",
       "      <th>初始_F側不平衡量</th>\n",
       "      <th>angle_proportion</th>\n",
       "      <th>angle_0</th>\n",
       "      <th>angle_target</th>\n",
       "      <th>prop_37</th>\n",
       "      <th>3_raw</th>\n",
       "      <th>7_raw</th>\n",
       "      <th>5_raw</th>\n",
       "      <th>10_raw</th>\n",
       "      <th>...</th>\n",
       "      <th>7_amt</th>\n",
       "      <th>5_amt</th>\n",
       "      <th>10_amt</th>\n",
       "      <th>3_solution</th>\n",
       "      <th>7_solution</th>\n",
       "      <th>5_solution</th>\n",
       "      <th>10_solution</th>\n",
       "      <th>37_delta</th>\n",
       "      <th>5_delta</th>\n",
       "      <th>10_delta</th>\n",
       "    </tr>\n",
       "  </thead>\n",
       "  <tbody>\n",
       "    <tr>\n",
       "      <th>0</th>\n",
       "      <td>30</td>\n",
       "      <td>10.0</td>\n",
       "      <td>0.0</td>\n",
       "      <td>1.0</td>\n",
       "      <td>10</td>\n",
       "      <td>73</td>\n",
       "      <td>3.0</td>\n",
       "      <td>7.0</td>\n",
       "      <td>5.0</td>\n",
       "      <td>10.0</td>\n",
       "      <td>...</td>\n",
       "      <td>1</td>\n",
       "      <td>1</td>\n",
       "      <td>1</td>\n",
       "      <td>{'4': '1'}</td>\n",
       "      <td>{'7': '1'}</td>\n",
       "      <td>{'5': '1'}</td>\n",
       "      <td>{'5': '2'}</td>\n",
       "      <td>1.0</td>\n",
       "      <td>0.0</td>\n",
       "      <td>0.0</td>\n",
       "    </tr>\n",
       "  </tbody>\n",
       "</table>\n",
       "<p>1 rows × 29 columns</p>\n",
       "</div>"
      ],
      "text/plain": [
       "   初始_F側角度  初始_F側不平衡量  angle_proportion  angle_0 angle_target prop_37  3_raw  \\\n",
       "0       30       10.0               0.0      1.0           10      73    3.0   \n",
       "\n",
       "   7_raw  5_raw  10_raw  ...  7_amt  5_amt  10_amt  3_solution  7_solution  \\\n",
       "0    7.0    5.0    10.0  ...      1      1       1  {'4': '1'}  {'7': '1'}   \n",
       "\n",
       "   5_solution  10_solution  37_delta  5_delta  10_delta  \n",
       "0  {'5': '1'}   {'5': '2'}       1.0      0.0       0.0  \n",
       "\n",
       "[1 rows x 29 columns]"
      ]
     },
     "execution_count": 15,
     "metadata": {},
     "output_type": "execute_result"
    }
   ],
   "source": [
    "df_f.head()"
   ]
  },
  {
   "cell_type": "code",
   "execution_count": 16,
   "metadata": {},
   "outputs": [],
   "source": [
    "df_l1 = encoding(df_l, side = \"L\")\n",
    "df_f1 = encoding(df_f, side = \"F\")"
   ]
  },
  {
   "cell_type": "code",
   "execution_count": 17,
   "metadata": {},
   "outputs": [],
   "source": [
    "X_l, y_l = split_data(df_l1, random_state, predict = True)\n",
    "X_f, y_f = split_data(df_f1, random_state, predict = True)"
   ]
  },
  {
   "cell_type": "code",
   "execution_count": 18,
   "metadata": {},
   "outputs": [
    {
     "data": {
      "text/html": [
       "<div>\n",
       "<style scoped>\n",
       "    .dataframe tbody tr th:only-of-type {\n",
       "        vertical-align: middle;\n",
       "    }\n",
       "\n",
       "    .dataframe tbody tr th {\n",
       "        vertical-align: top;\n",
       "    }\n",
       "\n",
       "    .dataframe thead th {\n",
       "        text-align: right;\n",
       "    }\n",
       "</style>\n",
       "<table border=\"1\" class=\"dataframe\">\n",
       "  <thead>\n",
       "    <tr style=\"text-align: right;\">\n",
       "      <th></th>\n",
       "      <th>angle_proportion</th>\n",
       "      <th>angle_0</th>\n",
       "      <th>3</th>\n",
       "      <th>7</th>\n",
       "      <th>37_delta</th>\n",
       "      <th>5</th>\n",
       "      <th>5_delta</th>\n",
       "      <th>10</th>\n",
       "      <th>10_delta</th>\n",
       "    </tr>\n",
       "  </thead>\n",
       "  <tbody>\n",
       "    <tr>\n",
       "      <th>0</th>\n",
       "      <td>0.166667</td>\n",
       "      <td>0.0</td>\n",
       "      <td>0.04159</td>\n",
       "      <td>0.180222</td>\n",
       "      <td>-0.4</td>\n",
       "      <td>0.240296</td>\n",
       "      <td>-0.2</td>\n",
       "      <td>0.110906</td>\n",
       "      <td>-0.4</td>\n",
       "    </tr>\n",
       "  </tbody>\n",
       "</table>\n",
       "</div>"
      ],
      "text/plain": [
       "   angle_proportion  angle_0        3         7  37_delta         5  5_delta  \\\n",
       "0          0.166667      0.0  0.04159  0.180222      -0.4  0.240296     -0.2   \n",
       "\n",
       "         10  10_delta  \n",
       "0  0.110906      -0.4  "
      ]
     },
     "execution_count": 18,
     "metadata": {},
     "output_type": "execute_result"
    }
   ],
   "source": [
    "X_l.head()"
   ]
  },
  {
   "cell_type": "code",
   "execution_count": 19,
   "metadata": {},
   "outputs": [
    {
     "data": {
      "text/html": [
       "<div>\n",
       "<style scoped>\n",
       "    .dataframe tbody tr th:only-of-type {\n",
       "        vertical-align: middle;\n",
       "    }\n",
       "\n",
       "    .dataframe tbody tr th {\n",
       "        vertical-align: top;\n",
       "    }\n",
       "\n",
       "    .dataframe thead th {\n",
       "        text-align: right;\n",
       "    }\n",
       "</style>\n",
       "<table border=\"1\" class=\"dataframe\">\n",
       "  <thead>\n",
       "    <tr style=\"text-align: right;\">\n",
       "      <th></th>\n",
       "      <th>angle_proportion</th>\n",
       "      <th>angle_0</th>\n",
       "      <th>3</th>\n",
       "      <th>7</th>\n",
       "      <th>37_delta</th>\n",
       "      <th>5</th>\n",
       "      <th>5_delta</th>\n",
       "      <th>10</th>\n",
       "      <th>10_delta</th>\n",
       "    </tr>\n",
       "  </thead>\n",
       "  <tbody>\n",
       "    <tr>\n",
       "      <th>0</th>\n",
       "      <td>0.0</td>\n",
       "      <td>1.0</td>\n",
       "      <td>0.4</td>\n",
       "      <td>0.7</td>\n",
       "      <td>1.0</td>\n",
       "      <td>0.5</td>\n",
       "      <td>0.0</td>\n",
       "      <td>1.0</td>\n",
       "      <td>0.0</td>\n",
       "    </tr>\n",
       "  </tbody>\n",
       "</table>\n",
       "</div>"
      ],
      "text/plain": [
       "   angle_proportion  angle_0    3    7  37_delta    5  5_delta   10  10_delta\n",
       "0               0.0      1.0  0.4  0.7       1.0  0.5      0.0  1.0       0.0"
      ]
     },
     "execution_count": 19,
     "metadata": {},
     "output_type": "execute_result"
    }
   ],
   "source": [
    "X_f.head()"
   ]
  },
  {
   "cell_type": "code",
   "execution_count": 20,
   "metadata": {},
   "outputs": [
    {
     "name": "stdout",
     "output_type": "stream",
     "text": [
      "real - l: 0, f: 2\n",
      "pred - l: 0, f: 0\n"
     ]
    }
   ],
   "source": [
    "y_pred_l = model_l.predict(X_l)[0]\n",
    "y_pred_f = model_f.predict(X_f)[0]\n",
    "print(f\"real - l: {y_l.values[0]}, f: {y_f.values[0]}\")\n",
    "print(f\"pred - l: {y_pred_l}, f: {y_pred_f}\")"
   ]
  },
  {
   "cell_type": "code",
   "execution_count": 21,
   "metadata": {},
   "outputs": [
    {
     "data": {
      "text/plain": [
       "{'1:0': {'l_angle_pred': '10',\n",
       "  'l_weight_pred': ['216'],\n",
       "  'l_comb': {'216': {'56': {'count': '3', 'comb': {'16': '1', '20': '2'}},\n",
       "    '24': {'count': '2', 'comb': {'4': '1', '20': '1'}}}},\n",
       "  'f_angle_pred': '45',\n",
       "  'f_weight_pred': ['10'],\n",
       "  'f_comb': {'10': {'10': {'count': '1', 'comb': {'5': '2'}}}}},\n",
       " '5:5': {'l_angle_pred': '10',\n",
       "  'l_weight_pred': ['108', '108'],\n",
       "  'l_comb': {'108': {'56': {'count': '1', 'comb': {'16': '1', '20': '2'}},\n",
       "    '52': {'count': '1', 'comb': {'16': '2', '20': '1'}}}},\n",
       "  'f_angle_pred': '45',\n",
       "  'f_weight_pred': ['5', '5'],\n",
       "  'f_comb': {'5': {'5': {'count': '1', 'comb': {'5': '1'}}}}},\n",
       " '3:7': {'l_angle_pred': '10',\n",
       "  'l_weight_pred': ['65', '151'],\n",
       "  'l_comb': {'65': {'56': {'count': '1', 'comb': {'16': '1', '20': '2'}},\n",
       "    '9': {'count': '1', 'comb': {'4': '1', '5': '1'}}},\n",
       "   '151': {'56': {'count': '2', 'comb': {'16': '1', '20': '2'}},\n",
       "    '39': {'count': '1', 'comb': {'7': '1', '16': '2'}}}},\n",
       "  'f_angle_pred': '45',\n",
       "  'f_weight_pred': ['4', '7'],\n",
       "  'f_comb': {'4': {'4': {'count': '1', 'comb': {'4': '1'}}},\n",
       "   '7': {'7': {'count': '1', 'comb': {'7': '1'}}}}}}"
      ]
     },
     "execution_count": 21,
     "metadata": {},
     "output_type": "execute_result"
    }
   ],
   "source": [
    "l_ans = df_l.iloc[0]\n",
    "f_ans = df_f.iloc[0]\n",
    "\n",
    "proportion = {    \n",
    "    \"1:0\": [\"10\"],\n",
    "    \"5:5\": [\"5\", \"5\"],\n",
    "    \"3:7\": [\"3\", \"7\"]\n",
    "}\n",
    "predicts = {}\n",
    "for key, prop in proportion.items():\n",
    "    l_weight_pred = [str(round((l_ans[f\"{prop[0]}_full\"] * weight_limit) + (l_ans[prop[0]] * l_ans[f\"{prop[0]}_amt\"])))]\n",
    "    f_weight_pred = [str(round((f_ans[f\"{prop[0]}_full\"] * weight_limit) + (f_ans[prop[0]] * f_ans[f\"{prop[0]}_amt\"])))]\n",
    "\n",
    "    if prop != [\"10\"]:\n",
    "        l_weight_pred += [str(round((l_ans[f\"{prop[1]}_full\"] * weight_limit) + (l_ans[prop[1]] * l_ans[f\"{prop[1]}_amt\"])))]\n",
    "        f_weight_pred += [str(round((f_ans[f\"{prop[1]}_full\"] * weight_limit) + (f_ans[prop[1]] * f_ans[f\"{prop[1]}_amt\"])))]\n",
    "\n",
    "    predict = {\n",
    "        \"l_angle_pred\":  str(l_angle_ori),\n",
    "        \"l_weight_pred\": l_weight_pred,\n",
    "        \"l_comb\": {},\n",
    "        \"f_angle_pred\":  str(f_angle_ori),\n",
    "        \"f_weight_pred\": f_weight_pred,\n",
    "        \"f_comb\": {},\n",
    "    }\n",
    "\n",
    "    fill_solution(prop, l_ans, predict, l_weight_pred, weight_limit, side = \"l\")\n",
    "    fill_solution(prop, f_ans, predict, f_weight_pred, weight_limit, side = \"f\")\n",
    "\n",
    "    predicts[key] = predict\n",
    "    \n",
    "predicts"
   ]
  },
  {
   "cell_type": "code",
   "execution_count": 22,
   "metadata": {},
   "outputs": [
    {
     "data": {
      "text/plain": [
       "{'1:0': {'l_angle_pred': '10',\n",
       "  'l_weight_pred': ['216'],\n",
       "  'l_comb': {'216': {'56': {'count': '3', 'comb': {'16': '1', '20': '2'}},\n",
       "    '24': {'count': '2', 'comb': {'4': '1', '20': '1'}}}},\n",
       "  'f_angle_pred': '45',\n",
       "  'f_weight_pred': ['10'],\n",
       "  'f_comb': {'10': {'10': {'count': '1', 'comb': {'5': '2'}}}}},\n",
       " '5:5': {'l_angle_pred': '10',\n",
       "  'l_weight_pred': ['108', '108'],\n",
       "  'l_comb': {'108': {'56': {'count': '1', 'comb': {'16': '1', '20': '2'}},\n",
       "    '52': {'count': '1', 'comb': {'16': '2', '20': '1'}}}},\n",
       "  'f_angle_pred': '45',\n",
       "  'f_weight_pred': ['5', '5'],\n",
       "  'f_comb': {'5': {'5': {'count': '1', 'comb': {'5': '1'}}}}},\n",
       " '3:7': {'l_angle_pred': '10',\n",
       "  'l_weight_pred': ['65', '151'],\n",
       "  'l_comb': {'65': {'56': {'count': '1', 'comb': {'16': '1', '20': '2'}},\n",
       "    '9': {'count': '1', 'comb': {'4': '1', '5': '1'}}},\n",
       "   '151': {'56': {'count': '2', 'comb': {'16': '1', '20': '2'}},\n",
       "    '39': {'count': '1', 'comb': {'7': '1', '16': '2'}}}},\n",
       "  'f_angle_pred': '45',\n",
       "  'f_weight_pred': ['7', '4'],\n",
       "  'f_comb': {'4': {'4': {'count': '1', 'comb': {'4': '1'}}},\n",
       "   '7': {'7': {'count': '1', 'comb': {'7': '1'}}}}}}"
      ]
     },
     "execution_count": 22,
     "metadata": {},
     "output_type": "execute_result"
    }
   ],
   "source": [
    "# 確認37分的方向\n",
    "if l_ans[\"prop_37\"] == \"73\":\n",
    "    predicts[\"3:7\"][\"l_weight_pred\"] = predicts[\"3:7\"][\"l_weight_pred\"][::-1]\n",
    "elif f_ans[\"prop_37\"] == \"73\":\n",
    "    predicts[\"3:7\"][\"f_weight_pred\"] = predicts[\"3:7\"][\"f_weight_pred\"][::-1]\n",
    "predicts"
   ]
  },
  {
   "cell_type": "code",
   "execution_count": 23,
   "metadata": {},
   "outputs": [
    {
     "data": {
      "text/plain": [
       "{'l_side': '3:7', 'f_side': '3:7'}"
      ]
     },
     "execution_count": 23,
     "metadata": {},
     "output_type": "execute_result"
    }
   ],
   "source": [
    "y_map = {0: \"3:7\", 1: \"5:5\", 2: \"1:0\"}\n",
    "best = {\n",
    "    \"l_side\": y_map[y_pred_l],\n",
    "    \"f_side\": y_map[y_pred_f]\n",
    "}\n",
    "best"
   ]
  },
  {
   "cell_type": "code",
   "execution_count": 24,
   "metadata": {},
   "outputs": [
    {
     "data": {
      "text/plain": [
       "{'l_chart': {'left': ['9', '56'], 'right': ['56', '56', '39']},\n",
       " 'f_chart': {'left': ['7'], 'right': ['4']}}"
      ]
     },
     "execution_count": 24,
     "metadata": {},
     "output_type": "execute_result"
    }
   ],
   "source": [
    "# 畫圖時的comb順序\n",
    "l_best = best[\"l_side\"]\n",
    "f_best = best[\"f_side\"]\n",
    "\n",
    "l_left, l_right = chart_comb(l_best, predicts, side = \"l\")\n",
    "f_left, f_right = chart_comb(f_best, predicts, side = \"f\")\n",
    "chart = {\n",
    "    \"l_chart\": {\n",
    "        \"left\": l_left,\n",
    "        \"right\": l_right\n",
    "    },\n",
    "    \"f_chart\": {\n",
    "        \"left\": f_left,\n",
    "        \"right\": f_right\n",
    "    },\n",
    "}\n",
    "chart"
   ]
  },
  {
   "cell_type": "code",
   "execution_count": 25,
   "metadata": {},
   "outputs": [
    {
     "data": {
      "text/plain": [
       "{'status': 'success',\n",
       " 'reason': '',\n",
       " 'work_id': 'julietest',\n",
       " 'op': 1,\n",
       " 'model_id': '20230807120000000',\n",
       " 'predict': {'1:0': {'l_angle_pred': '10',\n",
       "   'l_weight_pred': ['216'],\n",
       "   'l_comb': {'216': {'56': {'count': '3', 'comb': {'16': '1', '20': '2'}},\n",
       "     '24': {'count': '2', 'comb': {'4': '1', '20': '1'}}}},\n",
       "   'f_angle_pred': '45',\n",
       "   'f_weight_pred': ['10'],\n",
       "   'f_comb': {'10': {'10': {'count': '1', 'comb': {'5': '2'}}}}},\n",
       "  '5:5': {'l_angle_pred': '10',\n",
       "   'l_weight_pred': ['108', '108'],\n",
       "   'l_comb': {'108': {'56': {'count': '1', 'comb': {'16': '1', '20': '2'}},\n",
       "     '52': {'count': '1', 'comb': {'16': '2', '20': '1'}}}},\n",
       "   'f_angle_pred': '45',\n",
       "   'f_weight_pred': ['5', '5'],\n",
       "   'f_comb': {'5': {'5': {'count': '1', 'comb': {'5': '1'}}}}},\n",
       "  '3:7': {'l_angle_pred': '10',\n",
       "   'l_weight_pred': ['65', '151'],\n",
       "   'l_comb': {'65': {'56': {'count': '1', 'comb': {'16': '1', '20': '2'}},\n",
       "     '9': {'count': '1', 'comb': {'4': '1', '5': '1'}}},\n",
       "    '151': {'56': {'count': '2', 'comb': {'16': '1', '20': '2'}},\n",
       "     '39': {'count': '1', 'comb': {'7': '1', '16': '2'}}}},\n",
       "   'f_angle_pred': '45',\n",
       "   'f_weight_pred': ['7', '4'],\n",
       "   'f_comb': {'4': {'4': {'count': '1', 'comb': {'4': '1'}}},\n",
       "    '7': {'7': {'count': '1', 'comb': {'7': '1'}}}}}},\n",
       " 'best': {'l_side': '3:7', 'f_side': '3:7'},\n",
       " 'chart': {'l_chart': {'left': ['9', '56'], 'right': ['56', '56', '39']},\n",
       "  'f_chart': {'left': ['7'], 'right': ['4']}}}"
      ]
     },
     "execution_count": 25,
     "metadata": {},
     "output_type": "execute_result"
    }
   ],
   "source": [
    "result = {\n",
    "    \"status\":   \"success\",\n",
    "    \"reason\":   \"\",\n",
    "    \"work_id\":  work_id,\n",
    "    \"op\":       op,\n",
    "    \"model_id\": model_id,\n",
    "    \"predict\":  predicts,\n",
    "    \"best\":     best,\n",
    "    \"chart\":    chart\n",
    "}\n",
    "result"
   ]
  },
  {
   "cell_type": "code",
   "execution_count": 26,
   "metadata": {},
   "outputs": [],
   "source": [
    "with open(output_json, 'w') as file:\n",
    "    json.dump(result, file, indent = 4)"
   ]
  }
 ],
 "metadata": {
  "kernelspec": {
   "display_name": ".venv",
   "language": "python",
   "name": "python3"
  },
  "language_info": {
   "codemirror_mode": {
    "name": "ipython",
    "version": 3
   },
   "file_extension": ".py",
   "mimetype": "text/x-python",
   "name": "python",
   "nbconvert_exporter": "python",
   "pygments_lexer": "ipython3",
   "version": "3.8.10"
  },
  "orig_nbformat": 4
 },
 "nbformat": 4,
 "nbformat_minor": 2
}
