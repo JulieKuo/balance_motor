{
 "cells": [
  {
   "cell_type": "code",
   "execution_count": 1,
   "metadata": {},
   "outputs": [],
   "source": [
    "import pandas as pd\n",
    "import numpy as np\n",
    "from prog.tools import *\n",
    "from prog.model import *\n",
    "import warnings, pickle, os, json\n",
    "warnings.filterwarnings(\"ignore\")\n",
    "\n",
    "aluminum_division = 12\n",
    "random_state = 99"
   ]
  },
  {
   "cell_type": "code",
   "execution_count": 2,
   "metadata": {},
   "outputs": [],
   "source": [
    "input_ = {\n",
    "    \"work_id\": \"julietest\",\n",
    "    \"op\": 1,\n",
    "    \"model_id\": \"20230807120000000\",\n",
    "    \"speed\": \"590\",\n",
    "    \"l_angle_ori\": \"200\",\n",
    "    \"l_weight_ori\": \"200\",\n",
    "    \"f_angle_ori\": \"200\",\n",
    "    \"f_weight_ori\": \"200\",\n",
    "    \"material\": \"aluminum\", # 'aluminum'\n",
    "}"
   ]
  },
  {
   "cell_type": "code",
   "execution_count": 3,
   "metadata": {},
   "outputs": [],
   "source": [
    "work_id      = input_[\"work_id\"]\n",
    "op           = input_[\"op\"]\n",
    "model_id     = input_[\"model_id\"]\n",
    "speed        = int(input_[\"speed\"])\n",
    "l_angle_ori  = int(input_[\"l_angle_ori\"])\n",
    "l_weight_ori = float(input_[\"l_weight_ori\"])\n",
    "f_angle_ori  = int(input_[\"f_angle_ori\"])\n",
    "f_weight_ori = float(input_[\"f_weight_ori\"])\n",
    "material     = input_[\"material\"]"
   ]
  },
  {
   "cell_type": "code",
   "execution_count": 4,
   "metadata": {},
   "outputs": [],
   "source": [
    "root = r\"C:\\Users\\tzuli\\Documents\\python\\teco\"\n",
    "\n",
    "# 取得predict位置\n",
    "pred_path = os.path.join(root, \"data\", \"predict\")        \n",
    "os.makedirs(pred_path, exist_ok = True)\n",
    "output_json = os.path.join(pred_path, \"output.json\")\n",
    "\n",
    "# 取得model位置     \n",
    "model_detail = os.path.join(root, \"data\", \"train\", model_id, \"model\")\n",
    "\n",
    "config_path = os.path.join(root, \"prog\", \"config.json\")\n",
    "with open(config_path) as f:\n",
    "    config = json.load(f)"
   ]
  },
  {
   "cell_type": "markdown",
   "metadata": {},
   "source": [
    "### Load model"
   ]
  },
  {
   "cell_type": "code",
   "execution_count": 5,
   "metadata": {},
   "outputs": [],
   "source": [
    "side = \"L\"\n",
    "model_l = pickle.load(open(os.path.join(model_detail, f\"{side}_model.pkl\"), \"rb\"))\n",
    "\n",
    "side = \"F\"\n",
    "model_f = pickle.load(open(os.path.join(model_detail, f\"{side}_model.pkl\"), \"rb\"))"
   ]
  },
  {
   "cell_type": "code",
   "execution_count": 6,
   "metadata": {},
   "outputs": [],
   "source": [
    "df_l = pd.DataFrame([[l_angle_ori, l_weight_ori]], columns = [\"初始_L側角度\", \"初始_L側不平衡量\"])\n",
    "df_f = pd.DataFrame([[f_angle_ori, f_weight_ori]], columns = [\"初始_F側角度\", \"初始_F側不平衡量\"])"
   ]
  },
  {
   "cell_type": "code",
   "execution_count": 7,
   "metadata": {},
   "outputs": [
    {
     "data": {
      "text/html": [
       "<div>\n",
       "<style scoped>\n",
       "    .dataframe tbody tr th:only-of-type {\n",
       "        vertical-align: middle;\n",
       "    }\n",
       "\n",
       "    .dataframe tbody tr th {\n",
       "        vertical-align: top;\n",
       "    }\n",
       "\n",
       "    .dataframe thead th {\n",
       "        text-align: right;\n",
       "    }\n",
       "</style>\n",
       "<table border=\"1\" class=\"dataframe\">\n",
       "  <thead>\n",
       "    <tr style=\"text-align: right;\">\n",
       "      <th></th>\n",
       "      <th>初始_L側角度</th>\n",
       "      <th>初始_L側不平衡量</th>\n",
       "    </tr>\n",
       "  </thead>\n",
       "  <tbody>\n",
       "    <tr>\n",
       "      <th>0</th>\n",
       "      <td>200</td>\n",
       "      <td>200.0</td>\n",
       "    </tr>\n",
       "  </tbody>\n",
       "</table>\n",
       "</div>"
      ],
      "text/plain": [
       "   初始_L側角度  初始_L側不平衡量\n",
       "0      200      200.0"
      ]
     },
     "execution_count": 7,
     "metadata": {},
     "output_type": "execute_result"
    }
   ],
   "source": [
    "df_l"
   ]
  },
  {
   "cell_type": "code",
   "execution_count": 8,
   "metadata": {},
   "outputs": [
    {
     "data": {
      "text/html": [
       "<div>\n",
       "<style scoped>\n",
       "    .dataframe tbody tr th:only-of-type {\n",
       "        vertical-align: middle;\n",
       "    }\n",
       "\n",
       "    .dataframe tbody tr th {\n",
       "        vertical-align: top;\n",
       "    }\n",
       "\n",
       "    .dataframe thead th {\n",
       "        text-align: right;\n",
       "    }\n",
       "</style>\n",
       "<table border=\"1\" class=\"dataframe\">\n",
       "  <thead>\n",
       "    <tr style=\"text-align: right;\">\n",
       "      <th></th>\n",
       "      <th>初始_F側角度</th>\n",
       "      <th>初始_F側不平衡量</th>\n",
       "    </tr>\n",
       "  </thead>\n",
       "  <tbody>\n",
       "    <tr>\n",
       "      <th>0</th>\n",
       "      <td>200</td>\n",
       "      <td>200.0</td>\n",
       "    </tr>\n",
       "  </tbody>\n",
       "</table>\n",
       "</div>"
      ],
      "text/plain": [
       "   初始_F側角度  初始_F側不平衡量\n",
       "0      200      200.0"
      ]
     },
     "execution_count": 8,
     "metadata": {},
     "output_type": "execute_result"
    }
   ],
   "source": [
    "df_f"
   ]
  },
  {
   "cell_type": "code",
   "execution_count": 9,
   "metadata": {},
   "outputs": [
    {
     "name": "stdout",
     "output_type": "stream",
     "text": [
      "angle_init = [  0  30  60  90 120 150 180 210 240 270 300 330 360]\n"
     ]
    }
   ],
   "source": [
    "angle_init = np.linspace(0, 360, (aluminum_division + 1)).astype(int)\n",
    "print(f\"angle_init = {angle_init}\")\n",
    "\n",
    "df_l = calculate_angle_proportion(df_l, angle_init, aluminum_division, side = \"L\")            \n",
    "df_f = calculate_angle_proportion(df_f, angle_init, aluminum_division, side = \"F\")"
   ]
  },
  {
   "cell_type": "code",
   "execution_count": 10,
   "metadata": {},
   "outputs": [],
   "source": [
    "df_l = calculate_weight(df_l, side = \"L\")\n",
    "df_f = calculate_weight(df_f, side = \"F\")"
   ]
  },
  {
   "cell_type": "code",
   "execution_count": 11,
   "metadata": {},
   "outputs": [
    {
     "data": {
      "text/html": [
       "<div>\n",
       "<style scoped>\n",
       "    .dataframe tbody tr th:only-of-type {\n",
       "        vertical-align: middle;\n",
       "    }\n",
       "\n",
       "    .dataframe tbody tr th {\n",
       "        vertical-align: top;\n",
       "    }\n",
       "\n",
       "    .dataframe thead th {\n",
       "        text-align: right;\n",
       "    }\n",
       "</style>\n",
       "<table border=\"1\" class=\"dataframe\">\n",
       "  <thead>\n",
       "    <tr style=\"text-align: right;\">\n",
       "      <th></th>\n",
       "      <th>初始_L側角度</th>\n",
       "      <th>初始_L側不平衡量</th>\n",
       "      <th>angle_proportion</th>\n",
       "      <th>angle_0</th>\n",
       "      <th>angle_target</th>\n",
       "      <th>3</th>\n",
       "      <th>7</th>\n",
       "      <th>37_delta</th>\n",
       "      <th>3_solution</th>\n",
       "      <th>7_solution</th>\n",
       "      <th>5</th>\n",
       "      <th>5_delta</th>\n",
       "      <th>5_solution</th>\n",
       "      <th>10</th>\n",
       "      <th>10_delta</th>\n",
       "      <th>10_solution</th>\n",
       "    </tr>\n",
       "  </thead>\n",
       "  <tbody>\n",
       "    <tr>\n",
       "      <th>0</th>\n",
       "      <td>200</td>\n",
       "      <td>200.0</td>\n",
       "      <td>0.333333</td>\n",
       "      <td>0.0</td>\n",
       "      <td>55</td>\n",
       "      <td>60.0</td>\n",
       "      <td>140.0</td>\n",
       "      <td>0.0</td>\n",
       "      <td>{'30': '2'}</td>\n",
       "      <td>{'20': '1', '30': '4'}</td>\n",
       "      <td>100.0</td>\n",
       "      <td>0.0</td>\n",
       "      <td>{'10': '1', '30': '3'}</td>\n",
       "      <td>200.0</td>\n",
       "      <td>0.0</td>\n",
       "      <td>{'20': '1', '30': '6'}</td>\n",
       "    </tr>\n",
       "  </tbody>\n",
       "</table>\n",
       "</div>"
      ],
      "text/plain": [
       "   初始_L側角度  初始_L側不平衡量  angle_proportion  angle_0 angle_target     3      7  \\\n",
       "0      200      200.0          0.333333      0.0           55  60.0  140.0   \n",
       "\n",
       "   37_delta   3_solution              7_solution      5  5_delta  \\\n",
       "0       0.0  {'30': '2'}  {'20': '1', '30': '4'}  100.0      0.0   \n",
       "\n",
       "               5_solution     10  10_delta             10_solution  \n",
       "0  {'10': '1', '30': '3'}  200.0       0.0  {'20': '1', '30': '6'}  "
      ]
     },
     "execution_count": 11,
     "metadata": {},
     "output_type": "execute_result"
    }
   ],
   "source": [
    "df_l.head()"
   ]
  },
  {
   "cell_type": "code",
   "execution_count": 12,
   "metadata": {},
   "outputs": [
    {
     "data": {
      "text/plain": [
       "(2.4, 5.6)"
      ]
     },
     "execution_count": 12,
     "metadata": {},
     "output_type": "execute_result"
    }
   ],
   "source": [
    "num = 8\n",
    "num*3/10, num*7/10"
   ]
  },
  {
   "cell_type": "code",
   "execution_count": 13,
   "metadata": {},
   "outputs": [
    {
     "data": {
      "text/html": [
       "<div>\n",
       "<style scoped>\n",
       "    .dataframe tbody tr th:only-of-type {\n",
       "        vertical-align: middle;\n",
       "    }\n",
       "\n",
       "    .dataframe tbody tr th {\n",
       "        vertical-align: top;\n",
       "    }\n",
       "\n",
       "    .dataframe thead th {\n",
       "        text-align: right;\n",
       "    }\n",
       "</style>\n",
       "<table border=\"1\" class=\"dataframe\">\n",
       "  <thead>\n",
       "    <tr style=\"text-align: right;\">\n",
       "      <th></th>\n",
       "      <th>初始_F側角度</th>\n",
       "      <th>初始_F側不平衡量</th>\n",
       "      <th>angle_proportion</th>\n",
       "      <th>angle_0</th>\n",
       "      <th>angle_target</th>\n",
       "      <th>3</th>\n",
       "      <th>7</th>\n",
       "      <th>37_delta</th>\n",
       "      <th>3_solution</th>\n",
       "      <th>7_solution</th>\n",
       "      <th>5</th>\n",
       "      <th>5_delta</th>\n",
       "      <th>5_solution</th>\n",
       "      <th>10</th>\n",
       "      <th>10_delta</th>\n",
       "      <th>10_solution</th>\n",
       "    </tr>\n",
       "  </thead>\n",
       "  <tbody>\n",
       "    <tr>\n",
       "      <th>0</th>\n",
       "      <td>200</td>\n",
       "      <td>200.0</td>\n",
       "      <td>0.333333</td>\n",
       "      <td>0.0</td>\n",
       "      <td>55</td>\n",
       "      <td>60.0</td>\n",
       "      <td>140.0</td>\n",
       "      <td>0.0</td>\n",
       "      <td>{'30': '2'}</td>\n",
       "      <td>{'20': '1', '30': '4'}</td>\n",
       "      <td>100.0</td>\n",
       "      <td>0.0</td>\n",
       "      <td>{'10': '1', '30': '3'}</td>\n",
       "      <td>200.0</td>\n",
       "      <td>0.0</td>\n",
       "      <td>{'20': '1', '30': '6'}</td>\n",
       "    </tr>\n",
       "  </tbody>\n",
       "</table>\n",
       "</div>"
      ],
      "text/plain": [
       "   初始_F側角度  初始_F側不平衡量  angle_proportion  angle_0 angle_target     3      7  \\\n",
       "0      200      200.0          0.333333      0.0           55  60.0  140.0   \n",
       "\n",
       "   37_delta   3_solution              7_solution      5  5_delta  \\\n",
       "0       0.0  {'30': '2'}  {'20': '1', '30': '4'}  100.0      0.0   \n",
       "\n",
       "               5_solution     10  10_delta             10_solution  \n",
       "0  {'10': '1', '30': '3'}  200.0       0.0  {'20': '1', '30': '6'}  "
      ]
     },
     "execution_count": 13,
     "metadata": {},
     "output_type": "execute_result"
    }
   ],
   "source": [
    "df_f.head()"
   ]
  },
  {
   "cell_type": "code",
   "execution_count": 14,
   "metadata": {},
   "outputs": [],
   "source": [
    "df_l1 = encoding(df_l, side = \"L\")\n",
    "df_f1 = encoding(df_f, side = \"F\")"
   ]
  },
  {
   "cell_type": "code",
   "execution_count": 15,
   "metadata": {},
   "outputs": [],
   "source": [
    "X_l, y_l = split_data(df_l1, random_state, predict = True)\n",
    "X_f, y_f = split_data(df_f1, random_state, predict = True)"
   ]
  },
  {
   "cell_type": "code",
   "execution_count": 16,
   "metadata": {},
   "outputs": [
    {
     "data": {
      "text/html": [
       "<div>\n",
       "<style scoped>\n",
       "    .dataframe tbody tr th:only-of-type {\n",
       "        vertical-align: middle;\n",
       "    }\n",
       "\n",
       "    .dataframe tbody tr th {\n",
       "        vertical-align: top;\n",
       "    }\n",
       "\n",
       "    .dataframe thead th {\n",
       "        text-align: right;\n",
       "    }\n",
       "</style>\n",
       "<table border=\"1\" class=\"dataframe\">\n",
       "  <thead>\n",
       "    <tr style=\"text-align: right;\">\n",
       "      <th></th>\n",
       "      <th>angle_proportion</th>\n",
       "      <th>angle_0</th>\n",
       "      <th>3</th>\n",
       "      <th>7</th>\n",
       "      <th>37_delta</th>\n",
       "      <th>5</th>\n",
       "      <th>5_delta</th>\n",
       "      <th>10</th>\n",
       "      <th>10_delta</th>\n",
       "    </tr>\n",
       "  </thead>\n",
       "  <tbody>\n",
       "    <tr>\n",
       "      <th>0</th>\n",
       "      <td>0.333333</td>\n",
       "      <td>0.0</td>\n",
       "      <td>0.3</td>\n",
       "      <td>0.7</td>\n",
       "      <td>0.0</td>\n",
       "      <td>0.5</td>\n",
       "      <td>0.0</td>\n",
       "      <td>1.0</td>\n",
       "      <td>0.0</td>\n",
       "    </tr>\n",
       "  </tbody>\n",
       "</table>\n",
       "</div>"
      ],
      "text/plain": [
       "   angle_proportion  angle_0    3    7  37_delta    5  5_delta   10  10_delta\n",
       "0          0.333333      0.0  0.3  0.7       0.0  0.5      0.0  1.0       0.0"
      ]
     },
     "execution_count": 16,
     "metadata": {},
     "output_type": "execute_result"
    }
   ],
   "source": [
    "X_l.head()"
   ]
  },
  {
   "cell_type": "code",
   "execution_count": 17,
   "metadata": {},
   "outputs": [
    {
     "data": {
      "text/html": [
       "<div>\n",
       "<style scoped>\n",
       "    .dataframe tbody tr th:only-of-type {\n",
       "        vertical-align: middle;\n",
       "    }\n",
       "\n",
       "    .dataframe tbody tr th {\n",
       "        vertical-align: top;\n",
       "    }\n",
       "\n",
       "    .dataframe thead th {\n",
       "        text-align: right;\n",
       "    }\n",
       "</style>\n",
       "<table border=\"1\" class=\"dataframe\">\n",
       "  <thead>\n",
       "    <tr style=\"text-align: right;\">\n",
       "      <th></th>\n",
       "      <th>angle_proportion</th>\n",
       "      <th>angle_0</th>\n",
       "      <th>3</th>\n",
       "      <th>7</th>\n",
       "      <th>37_delta</th>\n",
       "      <th>5</th>\n",
       "      <th>5_delta</th>\n",
       "      <th>10</th>\n",
       "      <th>10_delta</th>\n",
       "    </tr>\n",
       "  </thead>\n",
       "  <tbody>\n",
       "    <tr>\n",
       "      <th>0</th>\n",
       "      <td>0.333333</td>\n",
       "      <td>0.0</td>\n",
       "      <td>0.3</td>\n",
       "      <td>0.7</td>\n",
       "      <td>0.0</td>\n",
       "      <td>0.5</td>\n",
       "      <td>0.0</td>\n",
       "      <td>1.0</td>\n",
       "      <td>0.0</td>\n",
       "    </tr>\n",
       "  </tbody>\n",
       "</table>\n",
       "</div>"
      ],
      "text/plain": [
       "   angle_proportion  angle_0    3    7  37_delta    5  5_delta   10  10_delta\n",
       "0          0.333333      0.0  0.3  0.7       0.0  0.5      0.0  1.0       0.0"
      ]
     },
     "execution_count": 17,
     "metadata": {},
     "output_type": "execute_result"
    }
   ],
   "source": [
    "X_f.head()"
   ]
  },
  {
   "cell_type": "code",
   "execution_count": 18,
   "metadata": {},
   "outputs": [
    {
     "name": "stdout",
     "output_type": "stream",
     "text": [
      "real - l: 1, f: 1\n",
      "pred - l: 1, f: 1\n"
     ]
    }
   ],
   "source": [
    "y_pred_l = model_l.predict(X_l)[0]\n",
    "y_pred_f = model_f.predict(X_f)[0]\n",
    "print(f\"real - l: {y_l.values[0]}, f: {y_f.values[0]}\")\n",
    "print(f\"pred - l: {y_pred_l}, f: {y_pred_f}\")"
   ]
  },
  {
   "cell_type": "code",
   "execution_count": 19,
   "metadata": {},
   "outputs": [],
   "source": [
    "astype_feats = ['3', '7', '5', '10']\n",
    "df_l[astype_feats] = df_l[astype_feats].astype(int).astype(str)\n",
    "df_f[astype_feats] = df_f[astype_feats].astype(int).astype(str)\n",
    "l_angle_ori = str(l_angle_ori)\n",
    "f_angle_ori = str(f_angle_ori)"
   ]
  },
  {
   "cell_type": "code",
   "execution_count": 20,
   "metadata": {},
   "outputs": [
    {
     "data": {
      "text/plain": [
       "[{'l_angle_pred': '200',\n",
       "  'l_weight_pred': '200',\n",
       "  'f_angle_pred': '200',\n",
       "  'f_weight_pred': '200'}]"
      ]
     },
     "execution_count": 20,
     "metadata": {},
     "output_type": "execute_result"
    }
   ],
   "source": [
    "# 最佳補償值\n",
    "predict = [\n",
    "        {\n",
    "            \"l_angle_pred\":  l_angle_ori,\n",
    "            \"l_weight_pred\": df_l.loc[0, \"10\"],\n",
    "            \"f_angle_pred\":  f_angle_ori,\n",
    "            \"f_weight_pred\": df_f.loc[0, \"10\"]\n",
    "        }\n",
    "]\n",
    "predict"
   ]
  },
  {
   "cell_type": "code",
   "execution_count": 21,
   "metadata": {},
   "outputs": [
    {
     "data": {
      "text/plain": [
       "{'200': {'20': '1', '30': '6'}}"
      ]
     },
     "execution_count": 21,
     "metadata": {},
     "output_type": "execute_result"
    }
   ],
   "source": [
    "# 組合\n",
    "comb = {\n",
    "    df_l.loc[0, \"10\"]: df_l.loc[0, \"10_solution\"],\n",
    "    df_f.loc[0, \"10\"]: df_f.loc[0, \"10_solution\"]\n",
    "}\n",
    "comb"
   ]
  },
  {
   "cell_type": "code",
   "execution_count": 22,
   "metadata": {},
   "outputs": [
    {
     "data": {
      "text/plain": [
       "[{'l_angle_pred': '200',\n",
       "  'l_weight_pred': '200',\n",
       "  'f_angle_pred': '200',\n",
       "  'f_weight_pred': '200'},\n",
       " {'l_angle_pred': '200',\n",
       "  'l_weight_pred': ['100', '100'],\n",
       "  'f_angle_pred': '200',\n",
       "  'f_weight_pred': ['100', '100']}]"
      ]
     },
     "execution_count": 22,
     "metadata": {},
     "output_type": "execute_result"
    }
   ],
   "source": [
    "predict.append({})\n",
    "\n",
    "# F側補償值組合\n",
    "if y_pred_l == 0:\n",
    "    predict[1].update({\n",
    "        \"l_angle_pred\":  l_angle_ori,\n",
    "        \"l_weight_pred\": [df_l.loc[0, \"3\"], df_l.loc[0, \"7\"]],\n",
    "    })\n",
    "    comb.update({df_l.loc[0, \"3\"]: df_l.loc[0, \"3_solution\"]})\n",
    "    comb.update({df_l.loc[0, \"7\"]: df_l.loc[0, \"7_solution\"]})\n",
    "\n",
    "elif y_pred_l == 1:\n",
    "    predict[1].update({\n",
    "        \"l_angle_pred\":  l_angle_ori,\n",
    "        \"l_weight_pred\": [df_l.loc[0, \"5\"], df_l.loc[0, \"5\"]],\n",
    "    })\n",
    "    comb.update({df_l.loc[0, \"5\"]: df_l.loc[0, \"5_solution\"]})\n",
    "\n",
    "# L側補償值組合\n",
    "if y_pred_f == 0: \n",
    "    predict[1].update({\n",
    "        \"f_angle_pred\":  f_angle_ori,\n",
    "        \"f_weight_pred\": [df_f.loc[0, \"3\"], df_f.loc[0, \"7\"]],\n",
    "    })\n",
    "    comb.update({df_f.loc[0, \"3\"]: df_f.loc[0, \"3_solution\"]})\n",
    "    comb.update({df_f.loc[0, \"7\"]: df_f.loc[0, \"7_solution\"]})\n",
    "\n",
    "elif y_pred_f == 1:\n",
    "    predict[1].update({\n",
    "        \"f_angle_pred\":  f_angle_ori,\n",
    "        \"f_weight_pred\": [df_f.loc[0, \"5\"], df_f.loc[0, \"5\"]],\n",
    "    })\n",
    "    comb.update({df_f.loc[0, \"5\"]: df_f.loc[0, \"5_solution\"]})\n",
    "\n",
    "predict"
   ]
  },
  {
   "cell_type": "code",
   "execution_count": 23,
   "metadata": {},
   "outputs": [
    {
     "data": {
      "text/plain": [
       "{'status': 'success',\n",
       " 'reason': '',\n",
       " 'work_id': 'julietest',\n",
       " 'op': 1,\n",
       " 'model_id': '20230807120000000',\n",
       " 'predict': [{'l_angle_pred': '200',\n",
       "   'l_weight_pred': '200',\n",
       "   'f_angle_pred': '200',\n",
       "   'f_weight_pred': '200'},\n",
       "  {'l_angle_pred': '200',\n",
       "   'l_weight_pred': ['100', '100'],\n",
       "   'f_angle_pred': '200',\n",
       "   'f_weight_pred': ['100', '100']}],\n",
       " 'comb': {'200': {'20': '1', '30': '6'}, '100': {'10': '1', '30': '3'}}}"
      ]
     },
     "execution_count": 23,
     "metadata": {},
     "output_type": "execute_result"
    }
   ],
   "source": [
    "result = {\n",
    "    \"status\":   \"success\",\n",
    "    \"reason\":   \"\",\n",
    "    \"work_id\":  work_id,\n",
    "    \"op\":       op,\n",
    "    \"model_id\": model_id,\n",
    "    \"predict\":  predict,\n",
    "    \"comb\":     comb\n",
    "}\n",
    "result"
   ]
  }
 ],
 "metadata": {
  "kernelspec": {
   "display_name": ".venv",
   "language": "python",
   "name": "python3"
  },
  "language_info": {
   "codemirror_mode": {
    "name": "ipython",
    "version": 3
   },
   "file_extension": ".py",
   "mimetype": "text/x-python",
   "name": "python",
   "nbconvert_exporter": "python",
   "pygments_lexer": "ipython3",
   "version": "3.8.10"
  },
  "orig_nbformat": 4
 },
 "nbformat": 4,
 "nbformat_minor": 2
}
