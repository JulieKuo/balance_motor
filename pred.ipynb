{
 "cells": [
  {
   "cell_type": "code",
   "execution_count": 1,
   "metadata": {},
   "outputs": [],
   "source": [
    "import pandas as pd\n",
    "import numpy as np\n",
    "import warnings, pickle, os, json, sqlalchemy\n",
    "warnings.filterwarnings(\"ignore\")\n",
    "\n",
    "gap = 1\n",
    "count = 20\n",
    "aluminum_division = 12\n",
    "copper_division = 72\n",
    "copper_limit = 300\n",
    "aluminum_limit = 60\n",
    "max_k = 10"
   ]
  },
  {
   "cell_type": "code",
   "execution_count": 2,
   "metadata": {},
   "outputs": [],
   "source": [
    "input_ = {\n",
    "    \"work_id\": \"FC236625\",\n",
    "    \"op\": 2,\n",
    "    \"model_id\": \"20230807120000000\",\n",
    "    \"speed\": \"590\",\n",
    "    \"l_angle_ori\": \"127\",\n",
    "    \"l_weight_ori\": \"0.85\",\n",
    "    \"f_angle_ori\": \"155\",\n",
    "    \"f_weight_ori\": \"2.10\",\n",
    "    \"material\": \"copper\", # 'aluminum', 'copper'\n",
    "}"
   ]
  },
  {
   "cell_type": "code",
   "execution_count": 4,
   "metadata": {},
   "outputs": [
    {
     "data": {
      "text/plain": [
       "('FC239512', '1', 1000, 315, 107, 338, 54, 'aluminum')"
      ]
     },
     "execution_count": 4,
     "metadata": {},
     "output_type": "execute_result"
    }
   ],
   "source": [
    "work_id = input_[\"work_id\"]\n",
    "op = input_[\"op\"]\n",
    "model_id = input_[\"model_id\"]\n",
    "speed = int(input_[\"speed\"])\n",
    "l_angle_ori  = int(input_[\"l_angle_ori\"])\n",
    "l_weight_ori = round(float(input_[\"l_weight_ori\"]))\n",
    "f_angle_ori  = int(input_[\"f_angle_ori\"])\n",
    "f_weight_ori = round(float(input_[\"f_weight_ori\"]))\n",
    "material = input_[\"material\"]\n",
    "work_id, op, speed, l_angle_ori, l_weight_ori, f_angle_ori, f_weight_ori, material"
   ]
  },
  {
   "cell_type": "code",
   "execution_count": 5,
   "metadata": {},
   "outputs": [],
   "source": [
    "root = r\"C:\\Users\\tzuli\\Documents\\python\\teco\"\n",
    "\n",
    "# 取得predict位置\n",
    "pred_path = os.path.join(root, \"data\", \"predict\")        \n",
    "os.makedirs(pred_path, exist_ok = True)\n",
    "output_json = os.path.join(pred_path, \"output.json\")\n",
    "\n",
    "# 取得model位置     \n",
    "model_detail = os.path.join(root, \"data\", \"train\", model_id, \"model\")\n",
    "\n",
    "config_path = os.path.join(root, \"prog\", \"config.json\")\n",
    "with open(config_path) as f:\n",
    "    config = json.load(f)"
   ]
  },
  {
   "cell_type": "markdown",
   "metadata": {},
   "source": [
    "### Load model"
   ]
  },
  {
   "cell_type": "code",
   "execution_count": 6,
   "metadata": {},
   "outputs": [],
   "source": [
    "side = \"L\"\n",
    "features = pickle.load(open(os.path.join(model_detail, f\"feat_order.pkl\"), \"rb\"))\n",
    "l_outlier_boundary = pickle.load(open(os.path.join(model_detail, f\"{side}_outlier_boundary.pkl\"), \"rb\"))\n",
    "l_skew_feat = pickle.load(open(os.path.join(model_detail, f\"{side}_skew_feat.pkl\"), \"rb\"))\n",
    "l_pt = pickle.load(open(os.path.join(model_detail, f\"{side}_power_tf.pkl\"), \"rb\"))\n",
    "l_scaler = pickle.load(open(os.path.join(model_detail, f\"{side}_scaler.pkl\"), \"rb\"))\n",
    "l_model = pickle.load(open(os.path.join(model_detail, f\"{side}_model.pkl\"), \"rb\"))\n",
    "\n",
    "side = \"F\"\n",
    "f_outlier_boundary = pickle.load(open(os.path.join(model_detail, f\"{side}_outlier_boundary.pkl\"), \"rb\"))\n",
    "f_skew_feat = pickle.load(open(os.path.join(model_detail, f\"{side}_skew_feat.pkl\"), \"rb\"))\n",
    "f_pt = pickle.load(open(os.path.join(model_detail, f\"{side}_power_tf.pkl\"), \"rb\"))\n",
    "f_scaler = pickle.load(open(os.path.join(model_detail, f\"{side}_scaler.pkl\"), \"rb\"))\n",
    "f_model = pickle.load(open(os.path.join(model_detail, f\"{side}_model.pkl\"), \"rb\"))"
   ]
  },
  {
   "cell_type": "markdown",
   "metadata": {},
   "source": [
    "### Get data from DB"
   ]
  },
  {
   "cell_type": "code",
   "execution_count": 7,
   "metadata": {},
   "outputs": [
    {
     "data": {
      "text/html": [
       "<div>\n",
       "<style scoped>\n",
       "    .dataframe tbody tr th:only-of-type {\n",
       "        vertical-align: middle;\n",
       "    }\n",
       "\n",
       "    .dataframe tbody tr th {\n",
       "        vertical-align: top;\n",
       "    }\n",
       "\n",
       "    .dataframe thead th {\n",
       "        text-align: right;\n",
       "    }\n",
       "</style>\n",
       "<table border=\"1\" class=\"dataframe\">\n",
       "  <thead>\n",
       "    <tr style=\"text-align: right;\">\n",
       "      <th></th>\n",
       "      <th>work_id</th>\n",
       "      <th>op</th>\n",
       "      <th>model_id</th>\n",
       "      <th>material</th>\n",
       "      <th>speed</th>\n",
       "      <th>l_angle_ori</th>\n",
       "      <th>l_weight_ori</th>\n",
       "      <th>f_angle_ori</th>\n",
       "      <th>f_weight_ori</th>\n",
       "      <th>l_angle_ai</th>\n",
       "      <th>...</th>\n",
       "      <th>f_angle_ai</th>\n",
       "      <th>f_weight_ai</th>\n",
       "      <th>l_angle_act</th>\n",
       "      <th>l_weight_act</th>\n",
       "      <th>f_angle_act</th>\n",
       "      <th>f_weight_act</th>\n",
       "      <th>create_time</th>\n",
       "      <th>create_by</th>\n",
       "      <th>modify_time</th>\n",
       "      <th>modify_by</th>\n",
       "    </tr>\n",
       "  </thead>\n",
       "  <tbody>\n",
       "    <tr>\n",
       "      <th>0</th>\n",
       "      <td>FC239512</td>\n",
       "      <td>1</td>\n",
       "      <td>20230902202809180</td>\n",
       "      <td>aluminum</td>\n",
       "      <td>1000</td>\n",
       "      <td>315</td>\n",
       "      <td>107.0</td>\n",
       "      <td>338</td>\n",
       "      <td>54.0</td>\n",
       "      <td>330</td>\n",
       "      <td>...</td>\n",
       "      <td>330</td>\n",
       "      <td>40</td>\n",
       "      <td>None</td>\n",
       "      <td>None</td>\n",
       "      <td>None</td>\n",
       "      <td>None</td>\n",
       "      <td>2023-09-08 12:42:44</td>\n",
       "      <td>admin</td>\n",
       "      <td>2023-09-08 12:42:44</td>\n",
       "      <td>admin</td>\n",
       "    </tr>\n",
       "  </tbody>\n",
       "</table>\n",
       "<p>1 rows × 21 columns</p>\n",
       "</div>"
      ],
      "text/plain": [
       "    work_id  op           model_id  material  speed  l_angle_ori  \\\n",
       "0  FC239512   1  20230902202809180  aluminum   1000          315   \n",
       "\n",
       "   l_weight_ori  f_angle_ori  f_weight_ori  l_angle_ai  ...  f_angle_ai  \\\n",
       "0         107.0          338          54.0         330  ...         330   \n",
       "\n",
       "   f_weight_ai  l_angle_act l_weight_act f_angle_act f_weight_act  \\\n",
       "0           40         None         None        None         None   \n",
       "\n",
       "          create_time create_by         modify_time modify_by  \n",
       "0 2023-09-08 12:42:44     admin 2023-09-08 12:42:44     admin  \n",
       "\n",
       "[1 rows x 21 columns]"
      ]
     },
     "execution_count": 7,
     "metadata": {},
     "output_type": "execute_result"
    }
   ],
   "source": [
    "con_info = f'mysql+pymysql://{config[\"user\"]}:{config[\"password\"]}@{config[\"host\"]}:{config[\"port\"]}/{config[\"database\"]}'\n",
    "conn = sqlalchemy.create_engine(con_info)\n",
    "\n",
    "query = f'SELECT * FROM {config[\"table\"]} WHERE (work_id = \"{work_id}\")'\n",
    "df_db = pd.read_sql(query, conn).sort_values(\"op\")\n",
    "df_db"
   ]
  },
  {
   "cell_type": "code",
   "execution_count": 8,
   "metadata": {},
   "outputs": [
    {
     "data": {
      "text/plain": [
       "(315, 338)"
      ]
     },
     "execution_count": 8,
     "metadata": {},
     "output_type": "execute_result"
    }
   ],
   "source": [
    "# 可填補角度要與起始角度同範圍，候選角度以初始角度為矛點\n",
    "if not df_db.empty:\n",
    "    l_angle_ori, f_angle_ori = df_db.loc[0, \"l_angle_ori\"], df_db.loc[0, \"f_angle_ori\"]\n",
    "l_angle_ori, f_angle_ori"
   ]
  },
  {
   "cell_type": "markdown",
   "metadata": {},
   "source": [
    "### Generate candidate values"
   ]
  },
  {
   "cell_type": "code",
   "execution_count": 9,
   "metadata": {},
   "outputs": [],
   "source": [
    "def generate_weight(weight_ori, gap, count, weight_limit):\n",
    "    end = round((count + 1) * gap) # 候選重量的結束範圍\n",
    "    weight_ori = min(weight_ori, weight_limit) # 重量不可大於上限\n",
    "    \n",
    "    # 產生候選重量\n",
    "    weight_change = []\n",
    "    for i in range(0, end, gap):\n",
    "        weight_change.extend([max(0, weight_ori + i), max(0, weight_ori - i)])\n",
    "\n",
    "    # 刪除相同的值\n",
    "    weight_change = sorted(list(set(weight_change)))\n",
    "    weight_change = np.array(weight_change)\n",
    "\n",
    "    # 重量不可大於上限\n",
    "    weight_change = weight_change[weight_change <= weight_limit]\n",
    "\n",
    "    return weight_change"
   ]
  },
  {
   "cell_type": "code",
   "execution_count": 10,
   "metadata": {},
   "outputs": [
    {
     "name": "stdout",
     "output_type": "stream",
     "text": [
      "l_weight_change = [40 41 42 43 44 45 46 47 48 49 50 51 52 53 54 55 56 57 58 59 60]\n",
      "f_weight_change = [34 35 36 37 38 39 40 41 42 43 44 45 46 47 48 49 50 51 52 53 54 55 56 57\n",
      " 58 59 60]\n"
     ]
    }
   ],
   "source": [
    "weight_limit = aluminum_limit if material == \"aluminum\" else copper_limit\n",
    "\n",
    "l_weight_change = generate_weight(l_weight_ori, gap, count, weight_limit)\n",
    "f_weight_change = generate_weight(f_weight_ori, gap, count, weight_limit)\n",
    "\n",
    "print(f\"l_weight_change = {l_weight_change}\")\n",
    "print(f\"f_weight_change = {f_weight_change}\")"
   ]
  },
  {
   "cell_type": "code",
   "execution_count": 11,
   "metadata": {},
   "outputs": [],
   "source": [
    "def generate_angle(angle_ori, material, aluminum_division, copper_division, max_k):\n",
    "    # 產生候選角度\n",
    "    if material == \"aluminum\":\n",
    "        angle_init = np.linspace(0, 360, (aluminum_division + 1))\n",
    "        k = min(round(90 / (360 / aluminum_division)), max_k) # 候選組合只可在同象限內\n",
    "    else:    \n",
    "        angle_init = np.linspace(0, 360, (copper_division + 1))\n",
    "        k = min(round(90 / (360 / copper_division)), max_k) # 候選組合只可在同象限內\n",
    "\n",
    "    closest_index = np.argsort(np.abs(angle_init - angle_ori))[:k] # 與angle_ori最接近的K個角度\n",
    "    angle_change0 = angle_init[closest_index]\n",
    "\n",
    "\n",
    "    # 調整候選較度\n",
    "    angle_change = []\n",
    "    for angle in angle_change0:\n",
    "        if angle > 360:\n",
    "            angle_change.append(angle - 360)\n",
    "        elif angle < 0:\n",
    "            angle_change.append(360 + angle)\n",
    "        else:\n",
    "            angle_change.append(angle)\n",
    "    \n",
    "    # 排序候選角度\n",
    "    angle_change = sorted(angle_change)\n",
    "\n",
    "    return angle_change, angle_init"
   ]
  },
  {
   "cell_type": "code",
   "execution_count": 12,
   "metadata": {},
   "outputs": [
    {
     "name": "stdout",
     "output_type": "stream",
     "text": [
      "l_angle_change = [270.0, 300.0, 330.0]\n",
      "f_angle_change = [300.0, 330.0, 360.0]\n"
     ]
    }
   ],
   "source": [
    "l_angle_change, l_angle_init = generate_angle(l_angle_ori, material, aluminum_division, copper_division, max_k)\n",
    "f_angle_change, f_angle_init = generate_angle(f_angle_ori, material, aluminum_division, copper_division, max_k)\n",
    "    \n",
    "print(f\"l_angle_change = {l_angle_change}\")\n",
    "print(f\"f_angle_change = {f_angle_change}\")"
   ]
  },
  {
   "cell_type": "code",
   "execution_count": 13,
   "metadata": {},
   "outputs": [
    {
     "name": "stdout",
     "output_type": "stream",
     "text": [
      "l_weight_change_opposite = [-40 -41 -42 -43 -44 -45 -46 -47 -48 -49 -50 -51 -52 -53 -54 -55 -56 -57\n",
      " -58 -59 -60]\n",
      "f_weight_change_opposite = [-34 -35 -36 -37 -38 -39 -40 -41 -42 -43 -44 -45 -46 -47 -48 -49 -50 -51\n",
      " -52 -53 -54 -55 -56 -57 -58 -59 -60]\n"
     ]
    }
   ],
   "source": [
    "# 產生對向候選重量\n",
    "l_weight_change_opposite = l_weight_change * -1\n",
    "f_weight_change_opposite = f_weight_change * -1\n",
    "\n",
    "print(f\"l_weight_change_opposite = {l_weight_change_opposite}\")\n",
    "print(f\"f_weight_change_opposite = {f_weight_change_opposite}\")"
   ]
  },
  {
   "cell_type": "code",
   "execution_count": 14,
   "metadata": {},
   "outputs": [
    {
     "name": "stdout",
     "output_type": "stream",
     "text": [
      "l_angle_change_opposite = [90.0, 120.0, 150.0]\n",
      "f_angle_change_opposite = [120.0, 150.0, 180.0]\n"
     ]
    }
   ],
   "source": [
    "# 產生對向候選角度\n",
    "l_angle_change_opposite = [(angle - 180) if angle > 180 else (angle + 180) for angle in l_angle_change]\n",
    "f_angle_change_opposite = [(angle - 180) if angle > 180 else (angle + 180) for angle in f_angle_change]\n",
    "\n",
    "print(f\"l_angle_change_opposite = {l_angle_change_opposite}\")\n",
    "print(f\"f_angle_change_opposite = {f_angle_change_opposite}\")"
   ]
  },
  {
   "cell_type": "markdown",
   "metadata": {},
   "source": [
    "### Generate candidate combinations"
   ]
  },
  {
   "cell_type": "code",
   "execution_count": 15,
   "metadata": {},
   "outputs": [
    {
     "data": {
      "text/plain": [
       "10206"
      ]
     },
     "execution_count": 15,
     "metadata": {},
     "output_type": "execute_result"
    }
   ],
   "source": [
    "# 循環生成所有组合\n",
    "index = 0\n",
    "all_combinations = []\n",
    "for a in l_angle_change :\n",
    "    for b in l_weight_change:\n",
    "        for c in f_angle_change:\n",
    "            for d in f_weight_change:\n",
    "                x = [speed, l_angle_ori, l_weight_ori, f_angle_ori, f_weight_ori, a, b, c, d]\n",
    "                all_combinations.append(x)\n",
    "\n",
    "for a in l_angle_change_opposite :\n",
    "    for b in l_weight_change_opposite:\n",
    "        for c in f_angle_change_opposite:\n",
    "            for d in f_weight_change_opposite:\n",
    "                x = [speed, l_angle_ori, l_weight_ori, f_angle_ori, f_weight_ori, a, b, c, d]\n",
    "                all_combinations.append(x)\n",
    "                \n",
    "len(all_combinations)"
   ]
  },
  {
   "cell_type": "code",
   "execution_count": 16,
   "metadata": {},
   "outputs": [
    {
     "name": "stdout",
     "output_type": "stream",
     "text": [
      "(10206, 9)\n"
     ]
    },
    {
     "data": {
      "text/html": [
       "<div>\n",
       "<style scoped>\n",
       "    .dataframe tbody tr th:only-of-type {\n",
       "        vertical-align: middle;\n",
       "    }\n",
       "\n",
       "    .dataframe tbody tr th {\n",
       "        vertical-align: top;\n",
       "    }\n",
       "\n",
       "    .dataframe thead th {\n",
       "        text-align: right;\n",
       "    }\n",
       "</style>\n",
       "<table border=\"1\" class=\"dataframe\">\n",
       "  <thead>\n",
       "    <tr style=\"text-align: right;\">\n",
       "      <th></th>\n",
       "      <th>平衡轉速</th>\n",
       "      <th>初始_L側角度</th>\n",
       "      <th>初始_L側不平衡量</th>\n",
       "      <th>初始_F側角度</th>\n",
       "      <th>初始_F側不平衡量</th>\n",
       "      <th>平衡_L側角度</th>\n",
       "      <th>平衡_L側配重</th>\n",
       "      <th>平衡_F側角度</th>\n",
       "      <th>平衡_F側配重</th>\n",
       "    </tr>\n",
       "  </thead>\n",
       "  <tbody>\n",
       "    <tr>\n",
       "      <th>0</th>\n",
       "      <td>1000</td>\n",
       "      <td>315</td>\n",
       "      <td>107</td>\n",
       "      <td>338</td>\n",
       "      <td>54</td>\n",
       "      <td>270.0</td>\n",
       "      <td>40</td>\n",
       "      <td>300.0</td>\n",
       "      <td>34</td>\n",
       "    </tr>\n",
       "    <tr>\n",
       "      <th>1</th>\n",
       "      <td>1000</td>\n",
       "      <td>315</td>\n",
       "      <td>107</td>\n",
       "      <td>338</td>\n",
       "      <td>54</td>\n",
       "      <td>270.0</td>\n",
       "      <td>40</td>\n",
       "      <td>300.0</td>\n",
       "      <td>35</td>\n",
       "    </tr>\n",
       "    <tr>\n",
       "      <th>2</th>\n",
       "      <td>1000</td>\n",
       "      <td>315</td>\n",
       "      <td>107</td>\n",
       "      <td>338</td>\n",
       "      <td>54</td>\n",
       "      <td>270.0</td>\n",
       "      <td>40</td>\n",
       "      <td>300.0</td>\n",
       "      <td>36</td>\n",
       "    </tr>\n",
       "  </tbody>\n",
       "</table>\n",
       "</div>"
      ],
      "text/plain": [
       "   平衡轉速  初始_L側角度  初始_L側不平衡量  初始_F側角度  初始_F側不平衡量  平衡_L側角度  平衡_L側配重  平衡_F側角度  \\\n",
       "0  1000      315        107      338         54    270.0       40    300.0   \n",
       "1  1000      315        107      338         54    270.0       40    300.0   \n",
       "2  1000      315        107      338         54    270.0       40    300.0   \n",
       "\n",
       "   平衡_F側配重  \n",
       "0       34  \n",
       "1       35  \n",
       "2       36  "
      ]
     },
     "execution_count": 16,
     "metadata": {},
     "output_type": "execute_result"
    }
   ],
   "source": [
    "df_comb = pd.DataFrame(\n",
    "    all_combinations, \n",
    "    columns = ['平衡轉速', '初始_L側角度', '初始_L側不平衡量', '初始_F側角度', '初始_F側不平衡量', '平衡_L側角度', '平衡_L側配重', '平衡_F側角度', '平衡_F側配重']\n",
    "    )\n",
    "print(df_comb.shape)\n",
    "df_comb.head(3)"
   ]
  },
  {
   "cell_type": "markdown",
   "metadata": {},
   "source": [
    "### Remove combinations"
   ]
  },
  {
   "cell_type": "code",
   "execution_count": 17,
   "metadata": {},
   "outputs": [],
   "source": [
    "def remove_combination(df_db, angle_init, weight_limit, df_comb, side):\n",
    "    # db中的實際填補角度以最接近的欲填補角度替代\n",
    "    for i in range(len(df_db)):\n",
    "        closest_index = np.argmin(np.abs(angle_init - df_db.loc[i, f\"{side.lower()}_angle_act\"]))\n",
    "        df_db.loc[i, f\"{side.lower()}_angle_act\"] = angle_init[closest_index]\n",
    "\n",
    "    # 計算已填補角度的剩餘可填補重量\n",
    "    cumulative_weight = df_db.groupby(f\"{side.lower()}_angle_act\").agg({f\"{side.lower()}_weight_act\": sum})\n",
    "    cumulative_weight = cumulative_weight.to_dict()[f\"{side.lower()}_weight_act\"]\n",
    "\n",
    "    # 刪除超出可填補重量的候選組合\n",
    "    for key, value in cumulative_weight.items():\n",
    "        if value > 0:\n",
    "            remain_min = 0\n",
    "            remain_max = weight_limit - value\n",
    "        else:\n",
    "            remain_min = (- weight_limit) - value\n",
    "            remain_max = 0\n",
    "\n",
    "        drop_index = df_comb.query(f\"平衡_{side}側角度 == {key} and (平衡_{side}側配重 > {remain_min}) and (平衡_{side}側配重 < {remain_max})\").index\n",
    "        df_comb = df_comb.drop(drop_index).reset_index(drop = True)\n",
    "    \n",
    "    return df_comb"
   ]
  },
  {
   "cell_type": "code",
   "execution_count": 18,
   "metadata": {},
   "outputs": [
    {
     "name": "stdout",
     "output_type": "stream",
     "text": [
      "(10206, 9)\n"
     ]
    }
   ],
   "source": [
    "if not df_db.empty:\n",
    "    df_db = df_db.fillna(0)\n",
    "    df_comb = remove_combination(df_db, l_angle_init, weight_limit, df_comb, side = \"L\")\n",
    "    df_comb = remove_combination(df_db, f_angle_init, weight_limit, df_comb, side = \"F\")\n",
    "\n",
    "df_pred = df_comb.copy()\n",
    "print(df_pred.shape)"
   ]
  },
  {
   "cell_type": "markdown",
   "metadata": {},
   "source": [
    "### Generate features"
   ]
  },
  {
   "cell_type": "code",
   "execution_count": 19,
   "metadata": {},
   "outputs": [
    {
     "data": {
      "text/html": [
       "<div>\n",
       "<style scoped>\n",
       "    .dataframe tbody tr th:only-of-type {\n",
       "        vertical-align: middle;\n",
       "    }\n",
       "\n",
       "    .dataframe tbody tr th {\n",
       "        vertical-align: top;\n",
       "    }\n",
       "\n",
       "    .dataframe thead th {\n",
       "        text-align: right;\n",
       "    }\n",
       "</style>\n",
       "<table border=\"1\" class=\"dataframe\">\n",
       "  <thead>\n",
       "    <tr style=\"text-align: right;\">\n",
       "      <th></th>\n",
       "      <th>平衡轉速</th>\n",
       "      <th>初始_L側角度</th>\n",
       "      <th>初始_L側不平衡量</th>\n",
       "      <th>初始_F側角度</th>\n",
       "      <th>初始_F側不平衡量</th>\n",
       "      <th>平衡_L側角度</th>\n",
       "      <th>平衡_L側配重</th>\n",
       "      <th>平衡_F側角度</th>\n",
       "      <th>平衡_F側配重</th>\n",
       "      <th>預期_F側不平衡量</th>\n",
       "      <th>預期_L側不平衡量</th>\n",
       "      <th>初始_不平衡量_diff</th>\n",
       "      <th>平衡_不平衡量_diff</th>\n",
       "      <th>初始_角度_diff</th>\n",
       "      <th>平衡_角度_diff</th>\n",
       "    </tr>\n",
       "  </thead>\n",
       "  <tbody>\n",
       "    <tr>\n",
       "      <th>0</th>\n",
       "      <td>1000</td>\n",
       "      <td>315</td>\n",
       "      <td>107</td>\n",
       "      <td>338</td>\n",
       "      <td>54</td>\n",
       "      <td>270.0</td>\n",
       "      <td>40</td>\n",
       "      <td>300.0</td>\n",
       "      <td>34</td>\n",
       "      <td>20</td>\n",
       "      <td>67</td>\n",
       "      <td>53</td>\n",
       "      <td>6</td>\n",
       "      <td>23</td>\n",
       "      <td>30.0</td>\n",
       "    </tr>\n",
       "    <tr>\n",
       "      <th>1</th>\n",
       "      <td>1000</td>\n",
       "      <td>315</td>\n",
       "      <td>107</td>\n",
       "      <td>338</td>\n",
       "      <td>54</td>\n",
       "      <td>270.0</td>\n",
       "      <td>40</td>\n",
       "      <td>300.0</td>\n",
       "      <td>35</td>\n",
       "      <td>19</td>\n",
       "      <td>67</td>\n",
       "      <td>53</td>\n",
       "      <td>5</td>\n",
       "      <td>23</td>\n",
       "      <td>30.0</td>\n",
       "    </tr>\n",
       "    <tr>\n",
       "      <th>2</th>\n",
       "      <td>1000</td>\n",
       "      <td>315</td>\n",
       "      <td>107</td>\n",
       "      <td>338</td>\n",
       "      <td>54</td>\n",
       "      <td>270.0</td>\n",
       "      <td>40</td>\n",
       "      <td>300.0</td>\n",
       "      <td>36</td>\n",
       "      <td>18</td>\n",
       "      <td>67</td>\n",
       "      <td>53</td>\n",
       "      <td>4</td>\n",
       "      <td>23</td>\n",
       "      <td>30.0</td>\n",
       "    </tr>\n",
       "  </tbody>\n",
       "</table>\n",
       "</div>"
      ],
      "text/plain": [
       "   平衡轉速  初始_L側角度  初始_L側不平衡量  初始_F側角度  初始_F側不平衡量  平衡_L側角度  平衡_L側配重  平衡_F側角度  \\\n",
       "0  1000      315        107      338         54    270.0       40    300.0   \n",
       "1  1000      315        107      338         54    270.0       40    300.0   \n",
       "2  1000      315        107      338         54    270.0       40    300.0   \n",
       "\n",
       "   平衡_F側配重  預期_F側不平衡量  預期_L側不平衡量  初始_不平衡量_diff  平衡_不平衡量_diff  初始_角度_diff  \\\n",
       "0       34         20         67            53             6          23   \n",
       "1       35         19         67            53             5          23   \n",
       "2       36         18         67            53             4          23   \n",
       "\n",
       "   平衡_角度_diff  \n",
       "0        30.0  \n",
       "1        30.0  \n",
       "2        30.0  "
      ]
     },
     "execution_count": 19,
     "metadata": {},
     "output_type": "execute_result"
    }
   ],
   "source": [
    "df_pred[\"預期_F側不平衡量\"] = df_pred[\"初始_F側不平衡量\"] - df_pred[\"平衡_F側配重\"]\n",
    "df_pred[\"預期_L側不平衡量\"] = df_pred[\"初始_L側不平衡量\"] - df_pred[\"平衡_L側配重\"]\n",
    "\n",
    "df_pred[\"初始_不平衡量_diff\"] = abs(df_pred[\"初始_L側不平衡量\"] - df_pred[\"初始_F側不平衡量\"])\n",
    "df_pred[\"平衡_不平衡量_diff\"] = abs(df_pred[\"平衡_L側配重\"] - df_pred[\"平衡_F側配重\"])\n",
    "\n",
    "diff = abs(df_pred[\"初始_L側角度\"] - df_pred[\"初始_F側角度\"])\n",
    "df_pred[\"初始_角度_diff\"] = diff.apply(lambda X: min(X, 360 - X))\n",
    "diff = abs(df_pred[\"平衡_L側角度\"] - df_pred[\"平衡_F側角度\"])\n",
    "df_pred[\"平衡_角度_diff\"] = diff.apply(lambda X: min(X, 360 - X))\n",
    "df_pred.head(3)"
   ]
  },
  {
   "cell_type": "code",
   "execution_count": 20,
   "metadata": {},
   "outputs": [],
   "source": [
    "l_df, f_df = df_pred.copy(), df_pred.copy()"
   ]
  },
  {
   "cell_type": "markdown",
   "metadata": {},
   "source": [
    "### Feature engineering"
   ]
  },
  {
   "cell_type": "code",
   "execution_count": 21,
   "metadata": {},
   "outputs": [],
   "source": [
    "for col in features[1:]:    \n",
    "    max_ = l_outlier_boundary[col][\"max\"]\n",
    "    max_index = l_df.index[l_df[col] > max_].to_list()\n",
    "    l_df.loc[max_index, col] = max_\n",
    "\n",
    "    min_ = l_outlier_boundary[col][\"min\"]\n",
    "    min_index = l_df.index[l_df[col] < min_].to_list()\n",
    "    l_df.loc[min_index, col] = min_\n",
    "\n",
    "    max_ = f_outlier_boundary[col][\"max\"]\n",
    "    max_index = f_df.index[f_df[col] > max_].to_list()\n",
    "    f_df.loc[max_index, col] = max_\n",
    "\n",
    "    min_ = f_outlier_boundary[col][\"min\"]\n",
    "    min_index = f_df.index[f_df[col] < min_].to_list()\n",
    "    f_df.loc[min_index, col] = min_"
   ]
  },
  {
   "cell_type": "code",
   "execution_count": 22,
   "metadata": {},
   "outputs": [],
   "source": [
    "l_df[l_skew_feat] = l_pt.transform(l_df[l_skew_feat])\n",
    "f_df[f_skew_feat] = f_pt.transform(f_df[f_skew_feat])\n",
    "l_df[features]    = l_scaler.transform(l_df[features])\n",
    "f_df[features]    = f_scaler.transform(f_df[features])"
   ]
  },
  {
   "cell_type": "markdown",
   "metadata": {},
   "source": [
    "### Predict"
   ]
  },
  {
   "cell_type": "code",
   "execution_count": 23,
   "metadata": {},
   "outputs": [],
   "source": [
    "pred_l = l_model.predict(l_df)\n",
    "pred_f = f_model.predict(f_df)"
   ]
  },
  {
   "cell_type": "code",
   "execution_count": 24,
   "metadata": {},
   "outputs": [],
   "source": [
    "df_comb[\"最終_L側不平衡量\"] = pred_l\n",
    "df_comb[\"最終_F側不平衡量\"] = pred_f"
   ]
  },
  {
   "cell_type": "markdown",
   "metadata": {},
   "source": [
    "### Find best combination"
   ]
  },
  {
   "cell_type": "code",
   "execution_count": 25,
   "metadata": {},
   "outputs": [
    {
     "data": {
      "text/html": [
       "<div>\n",
       "<style scoped>\n",
       "    .dataframe tbody tr th:only-of-type {\n",
       "        vertical-align: middle;\n",
       "    }\n",
       "\n",
       "    .dataframe tbody tr th {\n",
       "        vertical-align: top;\n",
       "    }\n",
       "\n",
       "    .dataframe thead th {\n",
       "        text-align: right;\n",
       "    }\n",
       "</style>\n",
       "<table border=\"1\" class=\"dataframe\">\n",
       "  <thead>\n",
       "    <tr style=\"text-align: right;\">\n",
       "      <th></th>\n",
       "      <th>平衡轉速</th>\n",
       "      <th>初始_L側角度</th>\n",
       "      <th>初始_L側不平衡量</th>\n",
       "      <th>初始_F側角度</th>\n",
       "      <th>初始_F側不平衡量</th>\n",
       "      <th>平衡_L側角度</th>\n",
       "      <th>平衡_L側配重</th>\n",
       "      <th>平衡_F側角度</th>\n",
       "      <th>平衡_F側配重</th>\n",
       "      <th>最終_L側不平衡量</th>\n",
       "      <th>最終_F側不平衡量</th>\n",
       "      <th>初始_總不平衡量</th>\n",
       "      <th>最終_總不平衡量</th>\n",
       "    </tr>\n",
       "  </thead>\n",
       "  <tbody>\n",
       "    <tr>\n",
       "      <th>5049</th>\n",
       "      <td>1000</td>\n",
       "      <td>315</td>\n",
       "      <td>107</td>\n",
       "      <td>338</td>\n",
       "      <td>54</td>\n",
       "      <td>330.0</td>\n",
       "      <td>60</td>\n",
       "      <td>330.0</td>\n",
       "      <td>34</td>\n",
       "      <td>12.993604</td>\n",
       "      <td>10.052241</td>\n",
       "      <td>161</td>\n",
       "      <td>23.045844</td>\n",
       "    </tr>\n",
       "  </tbody>\n",
       "</table>\n",
       "</div>"
      ],
      "text/plain": [
       "      平衡轉速  初始_L側角度  初始_L側不平衡量  初始_F側角度  初始_F側不平衡量  平衡_L側角度  平衡_L側配重  平衡_F側角度  \\\n",
       "5049  1000      315        107      338         54    330.0       60    330.0   \n",
       "\n",
       "      平衡_F側配重  最終_L側不平衡量  最終_F側不平衡量  初始_總不平衡量   最終_總不平衡量  \n",
       "5049       34  12.993604  10.052241       161  23.045844  "
      ]
     },
     "execution_count": 25,
     "metadata": {},
     "output_type": "execute_result"
    }
   ],
   "source": [
    "df_comb[\"初始_總不平衡量\"] = df_comb.eval(\"(abs(初始_L側不平衡量) + abs(初始_F側不平衡量))\")\n",
    "df_comb[\"最終_總不平衡量\"] = df_comb.eval(\"(abs(最終_L側不平衡量) + abs(最終_F側不平衡量))\")\n",
    "\n",
    "# 正常不可能低於0.1\n",
    "df_comb1 = df_comb.query(\"(最終_L側不平衡量 >= 0.1) and (最終_F側不平衡量 >= 0.1)\")\n",
    "if not df_comb1.empty:\n",
    "    df_comb = df_comb1.reset_index(drop = True)\n",
    "\n",
    "# 先嚴格篩選，再寬鬆篩選\n",
    "df_comb2 = df_comb.query(\"((平衡_L側配重 > 0) and (平衡_F側配重 > 0)) and (最終_總不平衡量 < 初始_總不平衡量)\")\n",
    "if df_comb2.empty:\n",
    "    df_comb2 = df_comb.query(\"(最終_總不平衡量 < 初始_總不平衡量)\")\n",
    "if df_comb2.empty:\n",
    "    df_comb2 = df_comb.copy()\n",
    "\n",
    "# 抓出最終_總不平衡量最小的作為回傳結果\n",
    "comb_index1 = df_comb2[\"最終_總不平衡量\"].idxmin()\n",
    "result1 = df_comb.loc[[comb_index1]]\n",
    "result1"
   ]
  },
  {
   "cell_type": "markdown",
   "metadata": {},
   "source": [
    "### Find second combination"
   ]
  },
  {
   "cell_type": "code",
   "execution_count": 26,
   "metadata": {},
   "outputs": [
    {
     "data": {
      "text/html": [
       "<div>\n",
       "<style scoped>\n",
       "    .dataframe tbody tr th:only-of-type {\n",
       "        vertical-align: middle;\n",
       "    }\n",
       "\n",
       "    .dataframe tbody tr th {\n",
       "        vertical-align: top;\n",
       "    }\n",
       "\n",
       "    .dataframe thead th {\n",
       "        text-align: right;\n",
       "    }\n",
       "</style>\n",
       "<table border=\"1\" class=\"dataframe\">\n",
       "  <thead>\n",
       "    <tr style=\"text-align: right;\">\n",
       "      <th></th>\n",
       "      <th>平衡轉速</th>\n",
       "      <th>初始_L側角度</th>\n",
       "      <th>初始_L側不平衡量</th>\n",
       "      <th>初始_F側角度</th>\n",
       "      <th>初始_F側不平衡量</th>\n",
       "      <th>平衡_L側角度</th>\n",
       "      <th>平衡_L側配重</th>\n",
       "      <th>平衡_F側角度</th>\n",
       "      <th>平衡_F側配重</th>\n",
       "      <th>最終_L側不平衡量</th>\n",
       "      <th>最終_F側不平衡量</th>\n",
       "      <th>初始_總不平衡量</th>\n",
       "      <th>最終_總不平衡量</th>\n",
       "    </tr>\n",
       "  </thead>\n",
       "  <tbody>\n",
       "    <tr>\n",
       "      <th>5050</th>\n",
       "      <td>1000</td>\n",
       "      <td>315</td>\n",
       "      <td>107</td>\n",
       "      <td>338</td>\n",
       "      <td>54</td>\n",
       "      <td>330.0</td>\n",
       "      <td>60</td>\n",
       "      <td>330.0</td>\n",
       "      <td>35</td>\n",
       "      <td>13.017187</td>\n",
       "      <td>10.216918</td>\n",
       "      <td>161</td>\n",
       "      <td>23.234105</td>\n",
       "    </tr>\n",
       "  </tbody>\n",
       "</table>\n",
       "</div>"
      ],
      "text/plain": [
       "      平衡轉速  初始_L側角度  初始_L側不平衡量  初始_F側角度  初始_F側不平衡量  平衡_L側角度  平衡_L側配重  平衡_F側角度  \\\n",
       "5050  1000      315        107      338         54    330.0       60    330.0   \n",
       "\n",
       "      平衡_F側配重  最終_L側不平衡量  最終_F側不平衡量  初始_總不平衡量   最終_總不平衡量  \n",
       "5050       35  13.017187  10.216918       161  23.234105  "
      ]
     },
     "execution_count": 26,
     "metadata": {},
     "output_type": "execute_result"
    }
   ],
   "source": [
    "l_weight_fill = result1.loc[comb_index1, \"平衡_L側配重\"]\n",
    "f_weight_fill = result1.loc[comb_index1, \"平衡_F側配重\"]\n",
    "\n",
    "# 平衡配重的個位數去尾後的值\n",
    "l_quotient  = (l_weight_fill // 10) * 10\n",
    "f_quotient  = (f_weight_fill // 10) * 10\n",
    "\n",
    "# 產生可能的次要可行解組合，ex: [n, n+5, n+10]\n",
    "l_answers = [l_quotient, l_quotient + 5, l_quotient + 10] if (l_quotient >= 30) else []\n",
    "f_answers = [f_quotient, f_quotient + 5, f_quotient + 10] if (f_quotient >= 30) else []\n",
    "\n",
    "# 抓出符合的組合\n",
    "if (l_quotient >= 30) and (f_quotient >= 30): # 兩個都大於30\n",
    "    df_comb3 = df_comb2.query(f\"(平衡_L側配重 in {l_answers}) and (平衡_F側配重 in {f_answers})\")\n",
    "elif (l_quotient >= 30) or (f_quotient >= 30): # 其中一個大於30 \n",
    "    df_comb3 = df_comb2.query(f\"((平衡_L側配重 in {l_answers}) and (平衡_F側配重 == {f_weight_fill})) or ((平衡_F側配重 in {f_answers}) and (平衡_L側配重 == {l_weight_fill}))\")\n",
    "\n",
    "# 抓出最終_總不平衡量最小的作為回傳結果\n",
    "if ('df_comb3' in locals()) and (len(df_comb3) > 0):\n",
    "    comb_index2 = df_comb3[\"最終_總不平衡量\"].idxmin()\n",
    "    result2 = df_comb.loc[[comb_index2]]\n",
    "else:\n",
    "    result2 = pd.DataFrame()\n",
    "result2"
   ]
  },
  {
   "cell_type": "code",
   "execution_count": 27,
   "metadata": {},
   "outputs": [
    {
     "name": "stdout",
     "output_type": "stream",
     "text": [
      "results = [{'l_angle_pred': '330.0', 'l_weight_pred': '60', 'f_angle_pred': '330.0', 'f_weight_pred': '34'}, {'l_angle_pred': '330.0', 'l_weight_pred': '60', 'f_angle_pred': '330.0', 'f_weight_pred': '35'}]\n"
     ]
    }
   ],
   "source": [
    "results = []\n",
    "result_col = [\"l_angle_pred\", \"l_weight_pred\", \"f_angle_pred\", \"f_weight_pred\"]\n",
    "result1 = result1[['平衡_L側角度', '平衡_L側配重', '平衡_F側角度', '平衡_F側配重']].astype(str)\n",
    "result1.columns = result_col\n",
    "result1 = result1.to_dict(orient = \"records\")[0]\n",
    "results.append(result1)\n",
    "\n",
    "if len(result2) > 0:\n",
    "    result2 = result2[['平衡_L側角度', '平衡_L側配重', '平衡_F側角度', '平衡_F側配重']].astype(str)\n",
    "    result2.columns = result_col\n",
    "    result2 = result2.to_dict(orient = \"records\")[0]\n",
    "    results.append(result2)\n",
    "    \n",
    "print(f\"results = {results}\")"
   ]
  },
  {
   "cell_type": "markdown",
   "metadata": {},
   "source": [
    "### Save output"
   ]
  },
  {
   "cell_type": "code",
   "execution_count": 28,
   "metadata": {},
   "outputs": [
    {
     "data": {
      "text/plain": [
       "{'status': 'success',\n",
       " 'reason': '',\n",
       " 'work_id': 'FC239512',\n",
       " 'op': '1',\n",
       " 'model_id': '20230807120000000',\n",
       " 'predict': [{'l_angle_pred': '330.0',\n",
       "   'l_weight_pred': '60',\n",
       "   'f_angle_pred': '330.0',\n",
       "   'f_weight_pred': '34'},\n",
       "  {'l_angle_pred': '330.0',\n",
       "   'l_weight_pred': '60',\n",
       "   'f_angle_pred': '330.0',\n",
       "   'f_weight_pred': '35'}]}"
      ]
     },
     "execution_count": 28,
     "metadata": {},
     "output_type": "execute_result"
    }
   ],
   "source": [
    "result = {\n",
    "    \"status\":   \"success\",\n",
    "    \"reason\":   \"\",\n",
    "    \"work_id\":  work_id,\n",
    "    \"op\":       op,\n",
    "    \"model_id\": model_id,\n",
    "    \"predict\":  results\n",
    "}\n",
    "result"
   ]
  },
  {
   "cell_type": "code",
   "execution_count": 29,
   "metadata": {},
   "outputs": [],
   "source": [
    "with open(output_json, 'w') as file:\n",
    "    json.dump(result, file, indent = 4)"
   ]
  },
  {
   "cell_type": "code",
   "execution_count": null,
   "metadata": {},
   "outputs": [],
   "source": []
  }
 ],
 "metadata": {
  "kernelspec": {
   "display_name": ".venv",
   "language": "python",
   "name": "python3"
  },
  "language_info": {
   "codemirror_mode": {
    "name": "ipython",
    "version": 3
   },
   "file_extension": ".py",
   "mimetype": "text/x-python",
   "name": "python",
   "nbconvert_exporter": "python",
   "pygments_lexer": "ipython3",
   "version": "3.8.10"
  },
  "orig_nbformat": 4
 },
 "nbformat": 4,
 "nbformat_minor": 2
}
